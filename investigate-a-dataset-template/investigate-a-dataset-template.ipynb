{
 "cells": [
  {
   "cell_type": "markdown",
   "metadata": {},
   "source": [
<<<<<<< HEAD
    "# Project: Investigate TMDB 5000 Movie Dataset\n",
=======
    "# Project: Investigate a Dataset (Replace this with something more specific!)\n",
>>>>>>> e0a8570d93062c9074af61e26c2bec6c116d1c0f
    "\n",
    "## Table of Contents\n",
    "<ul>\n",
    "<li><a href=\"#intro\">Introduction</a></li>\n",
    "<li><a href=\"#wrangling\">Data Wrangling</a></li>\n",
    "<li><a href=\"#eda\">Exploratory Data Analysis</a></li>\n",
    "<li><a href=\"#conclusions\">Conclusions</a></li>\n",
    "</ul>"
   ]
  },
  {
   "cell_type": "markdown",
   "metadata": {},
   "source": [
    "<a id='intro'></a>\n",
    "## Introduction\n",
    "\n",
    "> **Intro**: In this notebook I will be studying TMDB 5000 Movie dataset to understand the different factors that effect the profit of the inductry over years.<a id='intro'></a>"
   ]
  },
  {
   "cell_type": "code",
   "execution_count": 1,
   "metadata": {},
   "outputs": [],
   "source": [
    "#used packages \n",
    "import pandas as pd\n",
    "import matplotlib.pyplot as plt\n",
    "import numpy as np\n",
    "#magic word\n",
    "%matplotlib inline"
   ]
  },
  {
   "cell_type": "markdown",
   "metadata": {},
   "source": [
    "<a id='wrangling'></a>\n",
    "## Data Wrangling\n",
    "### General Properties"
   ]
  },
  {
   "cell_type": "code",
   "execution_count": 2,
   "metadata": {},
   "outputs": [
    {
     "data": {
      "text/html": [
       "<div>\n",
       "<style scoped>\n",
       "    .dataframe tbody tr th:only-of-type {\n",
       "        vertical-align: middle;\n",
       "    }\n",
       "\n",
       "    .dataframe tbody tr th {\n",
       "        vertical-align: top;\n",
       "    }\n",
       "\n",
       "    .dataframe thead th {\n",
       "        text-align: right;\n",
       "    }\n",
       "</style>\n",
       "<table border=\"1\" class=\"dataframe\">\n",
       "  <thead>\n",
       "    <tr style=\"text-align: right;\">\n",
       "      <th></th>\n",
       "      <th>id</th>\n",
       "      <th>imdb_id</th>\n",
       "      <th>popularity</th>\n",
       "      <th>budget</th>\n",
       "      <th>revenue</th>\n",
       "      <th>original_title</th>\n",
       "      <th>cast</th>\n",
       "      <th>homepage</th>\n",
       "      <th>director</th>\n",
       "      <th>tagline</th>\n",
       "      <th>...</th>\n",
       "      <th>overview</th>\n",
       "      <th>runtime</th>\n",
       "      <th>genres</th>\n",
       "      <th>production_companies</th>\n",
       "      <th>release_date</th>\n",
       "      <th>vote_count</th>\n",
       "      <th>vote_average</th>\n",
       "      <th>release_year</th>\n",
       "      <th>budget_adj</th>\n",
       "      <th>revenue_adj</th>\n",
       "    </tr>\n",
       "  </thead>\n",
       "  <tbody>\n",
       "    <tr>\n",
       "      <th>0</th>\n",
       "      <td>135397</td>\n",
       "      <td>tt0369610</td>\n",
       "      <td>32.985763</td>\n",
       "      <td>150000000</td>\n",
       "      <td>1513528810</td>\n",
       "      <td>Jurassic World</td>\n",
       "      <td>Chris Pratt|Bryce Dallas Howard|Irrfan Khan|Vi...</td>\n",
       "      <td>http://www.jurassicworld.com/</td>\n",
       "      <td>Colin Trevorrow</td>\n",
       "      <td>The park is open.</td>\n",
       "      <td>...</td>\n",
       "      <td>Twenty-two years after the events of Jurassic ...</td>\n",
       "      <td>124</td>\n",
       "      <td>Action|Adventure|Science Fiction|Thriller</td>\n",
       "      <td>Universal Studios|Amblin Entertainment|Legenda...</td>\n",
       "      <td>6/9/15</td>\n",
       "      <td>5562</td>\n",
       "      <td>6.5</td>\n",
       "      <td>2015</td>\n",
       "      <td>1.379999e+08</td>\n",
       "      <td>1.392446e+09</td>\n",
       "    </tr>\n",
       "    <tr>\n",
       "      <th>1</th>\n",
       "      <td>76341</td>\n",
       "      <td>tt1392190</td>\n",
       "      <td>28.419936</td>\n",
       "      <td>150000000</td>\n",
       "      <td>378436354</td>\n",
       "      <td>Mad Max: Fury Road</td>\n",
       "      <td>Tom Hardy|Charlize Theron|Hugh Keays-Byrne|Nic...</td>\n",
       "      <td>http://www.madmaxmovie.com/</td>\n",
       "      <td>George Miller</td>\n",
       "      <td>What a Lovely Day.</td>\n",
       "      <td>...</td>\n",
       "      <td>An apocalyptic story set in the furthest reach...</td>\n",
       "      <td>120</td>\n",
       "      <td>Action|Adventure|Science Fiction|Thriller</td>\n",
       "      <td>Village Roadshow Pictures|Kennedy Miller Produ...</td>\n",
       "      <td>5/13/15</td>\n",
       "      <td>6185</td>\n",
       "      <td>7.1</td>\n",
       "      <td>2015</td>\n",
       "      <td>1.379999e+08</td>\n",
       "      <td>3.481613e+08</td>\n",
       "    </tr>\n",
       "    <tr>\n",
       "      <th>2</th>\n",
       "      <td>262500</td>\n",
       "      <td>tt2908446</td>\n",
       "      <td>13.112507</td>\n",
       "      <td>110000000</td>\n",
       "      <td>295238201</td>\n",
       "      <td>Insurgent</td>\n",
       "      <td>Shailene Woodley|Theo James|Kate Winslet|Ansel...</td>\n",
       "      <td>http://www.thedivergentseries.movie/#insurgent</td>\n",
       "      <td>Robert Schwentke</td>\n",
       "      <td>One Choice Can Destroy You</td>\n",
       "      <td>...</td>\n",
       "      <td>Beatrice Prior must confront her inner demons ...</td>\n",
       "      <td>119</td>\n",
       "      <td>Adventure|Science Fiction|Thriller</td>\n",
       "      <td>Summit Entertainment|Mandeville Films|Red Wago...</td>\n",
       "      <td>3/18/15</td>\n",
       "      <td>2480</td>\n",
       "      <td>6.3</td>\n",
       "      <td>2015</td>\n",
       "      <td>1.012000e+08</td>\n",
       "      <td>2.716190e+08</td>\n",
       "    </tr>\n",
       "    <tr>\n",
       "      <th>3</th>\n",
       "      <td>140607</td>\n",
       "      <td>tt2488496</td>\n",
       "      <td>11.173104</td>\n",
       "      <td>200000000</td>\n",
       "      <td>2068178225</td>\n",
       "      <td>Star Wars: The Force Awakens</td>\n",
       "      <td>Harrison Ford|Mark Hamill|Carrie Fisher|Adam D...</td>\n",
       "      <td>http://www.starwars.com/films/star-wars-episod...</td>\n",
       "      <td>J.J. Abrams</td>\n",
       "      <td>Every generation has a story.</td>\n",
       "      <td>...</td>\n",
       "      <td>Thirty years after defeating the Galactic Empi...</td>\n",
       "      <td>136</td>\n",
       "      <td>Action|Adventure|Science Fiction|Fantasy</td>\n",
       "      <td>Lucasfilm|Truenorth Productions|Bad Robot</td>\n",
       "      <td>12/15/15</td>\n",
       "      <td>5292</td>\n",
       "      <td>7.5</td>\n",
       "      <td>2015</td>\n",
       "      <td>1.839999e+08</td>\n",
       "      <td>1.902723e+09</td>\n",
       "    </tr>\n",
       "    <tr>\n",
       "      <th>4</th>\n",
       "      <td>168259</td>\n",
       "      <td>tt2820852</td>\n",
       "      <td>9.335014</td>\n",
       "      <td>190000000</td>\n",
       "      <td>1506249360</td>\n",
       "      <td>Furious 7</td>\n",
       "      <td>Vin Diesel|Paul Walker|Jason Statham|Michelle ...</td>\n",
       "      <td>http://www.furious7.com/</td>\n",
       "      <td>James Wan</td>\n",
       "      <td>Vengeance Hits Home</td>\n",
       "      <td>...</td>\n",
       "      <td>Deckard Shaw seeks revenge against Dominic Tor...</td>\n",
       "      <td>137</td>\n",
       "      <td>Action|Crime|Thriller</td>\n",
       "      <td>Universal Pictures|Original Film|Media Rights ...</td>\n",
       "      <td>4/1/15</td>\n",
       "      <td>2947</td>\n",
       "      <td>7.3</td>\n",
       "      <td>2015</td>\n",
       "      <td>1.747999e+08</td>\n",
       "      <td>1.385749e+09</td>\n",
       "    </tr>\n",
       "  </tbody>\n",
       "</table>\n",
       "<p>5 rows × 21 columns</p>\n",
       "</div>"
      ],
      "text/plain": [
       "       id    imdb_id  popularity     budget     revenue  \\\n",
       "0  135397  tt0369610   32.985763  150000000  1513528810   \n",
       "1   76341  tt1392190   28.419936  150000000   378436354   \n",
       "2  262500  tt2908446   13.112507  110000000   295238201   \n",
       "3  140607  tt2488496   11.173104  200000000  2068178225   \n",
       "4  168259  tt2820852    9.335014  190000000  1506249360   \n",
       "\n",
       "                 original_title  \\\n",
       "0                Jurassic World   \n",
       "1            Mad Max: Fury Road   \n",
       "2                     Insurgent   \n",
       "3  Star Wars: The Force Awakens   \n",
       "4                     Furious 7   \n",
       "\n",
       "                                                cast  \\\n",
       "0  Chris Pratt|Bryce Dallas Howard|Irrfan Khan|Vi...   \n",
       "1  Tom Hardy|Charlize Theron|Hugh Keays-Byrne|Nic...   \n",
       "2  Shailene Woodley|Theo James|Kate Winslet|Ansel...   \n",
       "3  Harrison Ford|Mark Hamill|Carrie Fisher|Adam D...   \n",
       "4  Vin Diesel|Paul Walker|Jason Statham|Michelle ...   \n",
       "\n",
       "                                            homepage          director  \\\n",
       "0                      http://www.jurassicworld.com/   Colin Trevorrow   \n",
       "1                        http://www.madmaxmovie.com/     George Miller   \n",
       "2     http://www.thedivergentseries.movie/#insurgent  Robert Schwentke   \n",
       "3  http://www.starwars.com/films/star-wars-episod...       J.J. Abrams   \n",
       "4                           http://www.furious7.com/         James Wan   \n",
       "\n",
       "                         tagline  ...  \\\n",
       "0              The park is open.  ...   \n",
       "1             What a Lovely Day.  ...   \n",
       "2     One Choice Can Destroy You  ...   \n",
       "3  Every generation has a story.  ...   \n",
       "4            Vengeance Hits Home  ...   \n",
       "\n",
       "                                            overview runtime  \\\n",
       "0  Twenty-two years after the events of Jurassic ...     124   \n",
       "1  An apocalyptic story set in the furthest reach...     120   \n",
       "2  Beatrice Prior must confront her inner demons ...     119   \n",
       "3  Thirty years after defeating the Galactic Empi...     136   \n",
       "4  Deckard Shaw seeks revenge against Dominic Tor...     137   \n",
       "\n",
       "                                      genres  \\\n",
       "0  Action|Adventure|Science Fiction|Thriller   \n",
       "1  Action|Adventure|Science Fiction|Thriller   \n",
       "2         Adventure|Science Fiction|Thriller   \n",
       "3   Action|Adventure|Science Fiction|Fantasy   \n",
       "4                      Action|Crime|Thriller   \n",
       "\n",
       "                                production_companies release_date vote_count  \\\n",
       "0  Universal Studios|Amblin Entertainment|Legenda...       6/9/15       5562   \n",
       "1  Village Roadshow Pictures|Kennedy Miller Produ...      5/13/15       6185   \n",
       "2  Summit Entertainment|Mandeville Films|Red Wago...      3/18/15       2480   \n",
       "3          Lucasfilm|Truenorth Productions|Bad Robot     12/15/15       5292   \n",
       "4  Universal Pictures|Original Film|Media Rights ...       4/1/15       2947   \n",
       "\n",
       "   vote_average  release_year    budget_adj   revenue_adj  \n",
       "0           6.5          2015  1.379999e+08  1.392446e+09  \n",
       "1           7.1          2015  1.379999e+08  3.481613e+08  \n",
       "2           6.3          2015  1.012000e+08  2.716190e+08  \n",
       "3           7.5          2015  1.839999e+08  1.902723e+09  \n",
       "4           7.3          2015  1.747999e+08  1.385749e+09  \n",
       "\n",
       "[5 rows x 21 columns]"
      ]
     },
     "execution_count": 2,
     "metadata": {},
     "output_type": "execute_result"
    }
   ],
   "source": [
    "# Load your data and print out a few lines. Perform operations to inspect data\n",
    "df = pd.read_csv(\"tmdb-movies.csv\")\n",
    "df.head()"
   ]
  },
  {
   "cell_type": "code",
   "execution_count": 3,
   "metadata": {},
   "outputs": [
    {
     "name": "stdout",
     "output_type": "stream",
     "text": [
      "<class 'pandas.core.frame.DataFrame'>\n",
      "RangeIndex: 10866 entries, 0 to 10865\n",
      "Data columns (total 21 columns):\n",
      " #   Column                Non-Null Count  Dtype  \n",
      "---  ------                --------------  -----  \n",
      " 0   id                    10866 non-null  int64  \n",
      " 1   imdb_id               10856 non-null  object \n",
      " 2   popularity            10866 non-null  float64\n",
      " 3   budget                10866 non-null  int64  \n",
      " 4   revenue               10866 non-null  int64  \n",
      " 5   original_title        10866 non-null  object \n",
      " 6   cast                  10790 non-null  object \n",
      " 7   homepage              2936 non-null   object \n",
      " 8   director              10822 non-null  object \n",
      " 9   tagline               8042 non-null   object \n",
      " 10  keywords              9373 non-null   object \n",
      " 11  overview              10862 non-null  object \n",
      " 12  runtime               10866 non-null  int64  \n",
      " 13  genres                10843 non-null  object \n",
      " 14  production_companies  9836 non-null   object \n",
      " 15  release_date          10866 non-null  object \n",
      " 16  vote_count            10866 non-null  int64  \n",
      " 17  vote_average          10866 non-null  float64\n",
      " 18  release_year          10866 non-null  int64  \n",
      " 19  budget_adj            10866 non-null  float64\n",
      " 20  revenue_adj           10866 non-null  float64\n",
      "dtypes: float64(4), int64(6), object(11)\n",
      "memory usage: 1.7+ MB\n"
     ]
    }
   ],
   "source": [
    "#colmun names  and data types of the df\n",
    "df.info()"
   ]
  },
  {
   "cell_type": "code",
   "execution_count": 4,
   "metadata": {},
   "outputs": [
    {
     "data": {
      "text/html": [
       "<div>\n",
       "<style scoped>\n",
       "    .dataframe tbody tr th:only-of-type {\n",
       "        vertical-align: middle;\n",
       "    }\n",
       "\n",
       "    .dataframe tbody tr th {\n",
       "        vertical-align: top;\n",
       "    }\n",
       "\n",
       "    .dataframe thead th {\n",
       "        text-align: right;\n",
       "    }\n",
       "</style>\n",
       "<table border=\"1\" class=\"dataframe\">\n",
       "  <thead>\n",
       "    <tr style=\"text-align: right;\">\n",
       "      <th></th>\n",
       "      <th>id</th>\n",
       "      <th>popularity</th>\n",
       "      <th>budget</th>\n",
       "      <th>revenue</th>\n",
       "      <th>runtime</th>\n",
       "      <th>vote_count</th>\n",
       "      <th>vote_average</th>\n",
       "      <th>release_year</th>\n",
       "      <th>budget_adj</th>\n",
       "      <th>revenue_adj</th>\n",
       "    </tr>\n",
       "  </thead>\n",
       "  <tbody>\n",
       "    <tr>\n",
       "      <th>count</th>\n",
       "      <td>10866.000000</td>\n",
       "      <td>10866.000000</td>\n",
       "      <td>1.086600e+04</td>\n",
       "      <td>1.086600e+04</td>\n",
       "      <td>10866.000000</td>\n",
       "      <td>10866.000000</td>\n",
       "      <td>10866.000000</td>\n",
       "      <td>10866.000000</td>\n",
       "      <td>1.086600e+04</td>\n",
       "      <td>1.086600e+04</td>\n",
       "    </tr>\n",
       "    <tr>\n",
       "      <th>mean</th>\n",
       "      <td>66064.177434</td>\n",
       "      <td>0.646441</td>\n",
       "      <td>1.462570e+07</td>\n",
       "      <td>3.982332e+07</td>\n",
       "      <td>102.070863</td>\n",
       "      <td>217.389748</td>\n",
       "      <td>5.974922</td>\n",
       "      <td>2001.322658</td>\n",
       "      <td>1.755104e+07</td>\n",
       "      <td>5.136436e+07</td>\n",
       "    </tr>\n",
       "    <tr>\n",
       "      <th>std</th>\n",
       "      <td>92130.136561</td>\n",
       "      <td>1.000185</td>\n",
       "      <td>3.091321e+07</td>\n",
       "      <td>1.170035e+08</td>\n",
       "      <td>31.381405</td>\n",
       "      <td>575.619058</td>\n",
       "      <td>0.935142</td>\n",
       "      <td>12.812941</td>\n",
       "      <td>3.430616e+07</td>\n",
       "      <td>1.446325e+08</td>\n",
       "    </tr>\n",
       "    <tr>\n",
       "      <th>min</th>\n",
       "      <td>5.000000</td>\n",
       "      <td>0.000065</td>\n",
       "      <td>0.000000e+00</td>\n",
       "      <td>0.000000e+00</td>\n",
       "      <td>0.000000</td>\n",
       "      <td>10.000000</td>\n",
       "      <td>1.500000</td>\n",
       "      <td>1960.000000</td>\n",
       "      <td>0.000000e+00</td>\n",
       "      <td>0.000000e+00</td>\n",
       "    </tr>\n",
       "    <tr>\n",
       "      <th>25%</th>\n",
       "      <td>10596.250000</td>\n",
       "      <td>0.207583</td>\n",
       "      <td>0.000000e+00</td>\n",
       "      <td>0.000000e+00</td>\n",
       "      <td>90.000000</td>\n",
       "      <td>17.000000</td>\n",
       "      <td>5.400000</td>\n",
       "      <td>1995.000000</td>\n",
       "      <td>0.000000e+00</td>\n",
       "      <td>0.000000e+00</td>\n",
       "    </tr>\n",
       "    <tr>\n",
       "      <th>50%</th>\n",
       "      <td>20669.000000</td>\n",
       "      <td>0.383856</td>\n",
       "      <td>0.000000e+00</td>\n",
       "      <td>0.000000e+00</td>\n",
       "      <td>99.000000</td>\n",
       "      <td>38.000000</td>\n",
       "      <td>6.000000</td>\n",
       "      <td>2006.000000</td>\n",
       "      <td>0.000000e+00</td>\n",
       "      <td>0.000000e+00</td>\n",
       "    </tr>\n",
       "    <tr>\n",
       "      <th>75%</th>\n",
       "      <td>75610.000000</td>\n",
       "      <td>0.713817</td>\n",
       "      <td>1.500000e+07</td>\n",
       "      <td>2.400000e+07</td>\n",
       "      <td>111.000000</td>\n",
       "      <td>145.750000</td>\n",
       "      <td>6.600000</td>\n",
       "      <td>2011.000000</td>\n",
       "      <td>2.085325e+07</td>\n",
       "      <td>3.369710e+07</td>\n",
       "    </tr>\n",
       "    <tr>\n",
       "      <th>max</th>\n",
       "      <td>417859.000000</td>\n",
       "      <td>32.985763</td>\n",
       "      <td>4.250000e+08</td>\n",
       "      <td>2.781506e+09</td>\n",
       "      <td>900.000000</td>\n",
       "      <td>9767.000000</td>\n",
       "      <td>9.200000</td>\n",
       "      <td>2015.000000</td>\n",
       "      <td>4.250000e+08</td>\n",
       "      <td>2.827124e+09</td>\n",
       "    </tr>\n",
       "  </tbody>\n",
       "</table>\n",
       "</div>"
      ],
      "text/plain": [
       "                  id    popularity        budget       revenue       runtime  \\\n",
       "count   10866.000000  10866.000000  1.086600e+04  1.086600e+04  10866.000000   \n",
       "mean    66064.177434      0.646441  1.462570e+07  3.982332e+07    102.070863   \n",
       "std     92130.136561      1.000185  3.091321e+07  1.170035e+08     31.381405   \n",
       "min         5.000000      0.000065  0.000000e+00  0.000000e+00      0.000000   \n",
       "25%     10596.250000      0.207583  0.000000e+00  0.000000e+00     90.000000   \n",
       "50%     20669.000000      0.383856  0.000000e+00  0.000000e+00     99.000000   \n",
       "75%     75610.000000      0.713817  1.500000e+07  2.400000e+07    111.000000   \n",
       "max    417859.000000     32.985763  4.250000e+08  2.781506e+09    900.000000   \n",
       "\n",
       "         vote_count  vote_average  release_year    budget_adj   revenue_adj  \n",
       "count  10866.000000  10866.000000  10866.000000  1.086600e+04  1.086600e+04  \n",
       "mean     217.389748      5.974922   2001.322658  1.755104e+07  5.136436e+07  \n",
       "std      575.619058      0.935142     12.812941  3.430616e+07  1.446325e+08  \n",
       "min       10.000000      1.500000   1960.000000  0.000000e+00  0.000000e+00  \n",
       "25%       17.000000      5.400000   1995.000000  0.000000e+00  0.000000e+00  \n",
       "50%       38.000000      6.000000   2006.000000  0.000000e+00  0.000000e+00  \n",
       "75%      145.750000      6.600000   2011.000000  2.085325e+07  3.369710e+07  \n",
       "max     9767.000000      9.200000   2015.000000  4.250000e+08  2.827124e+09  "
      ]
     },
     "execution_count": 4,
     "metadata": {},
     "output_type": "execute_result"
    }
   ],
   "source": [
    "# over view over the data\n",
    "df.describe()"
   ]
  },
  {
   "cell_type": "code",
   "execution_count": 5,
   "metadata": {},
   "outputs": [
    {
     "data": {
      "text/plain": [
       "Index(['id', 'imdb_id', 'popularity', 'budget', 'revenue', 'original_title',\n",
       "       'cast', 'homepage', 'director', 'tagline', 'keywords', 'overview',\n",
       "       'runtime', 'genres', 'production_companies', 'release_date',\n",
       "       'vote_count', 'vote_average', 'release_year', 'budget_adj',\n",
       "       'revenue_adj'],\n",
       "      dtype='object')"
      ]
     },
     "execution_count": 5,
     "metadata": {},
     "output_type": "execute_result"
    }
   ],
   "source": [
    "#df columns names\n",
    "df.columns"
   ]
  },
  {
   "cell_type": "markdown",
   "metadata": {},
   "source": [
    "### Data Cleaning"
   ]
  },
  {
   "cell_type": "code",
   "execution_count": 6,
   "metadata": {},
   "outputs": [],
   "source": [
    "#will drop colums that i will not use like   id/imbd_id / homepage / tagline / keywords / over view\n",
    "df.drop(['id','imdb_id', 'homepage', 'keywords', 'tagline','overview'], axis=1, inplace=True)"
   ]
  },
  {
   "cell_type": "code",
   "execution_count": 7,
   "metadata": {},
   "outputs": [
    {
     "data": {
      "text/html": [
       "<div>\n",
       "<style scoped>\n",
       "    .dataframe tbody tr th:only-of-type {\n",
       "        vertical-align: middle;\n",
       "    }\n",
       "\n",
       "    .dataframe tbody tr th {\n",
       "        vertical-align: top;\n",
       "    }\n",
       "\n",
       "    .dataframe thead th {\n",
       "        text-align: right;\n",
       "    }\n",
       "</style>\n",
       "<table border=\"1\" class=\"dataframe\">\n",
       "  <thead>\n",
       "    <tr style=\"text-align: right;\">\n",
       "      <th></th>\n",
       "      <th>popularity</th>\n",
       "      <th>budget</th>\n",
       "      <th>revenue</th>\n",
       "      <th>original_title</th>\n",
       "      <th>cast</th>\n",
       "      <th>director</th>\n",
       "      <th>runtime</th>\n",
       "      <th>genres</th>\n",
       "      <th>production_companies</th>\n",
       "      <th>release_date</th>\n",
       "      <th>vote_count</th>\n",
       "      <th>vote_average</th>\n",
       "      <th>release_year</th>\n",
       "      <th>budget_adj</th>\n",
       "      <th>revenue_adj</th>\n",
       "    </tr>\n",
       "  </thead>\n",
       "  <tbody>\n",
       "    <tr>\n",
       "      <th>0</th>\n",
       "      <td>32.985763</td>\n",
       "      <td>150000000</td>\n",
       "      <td>1513528810</td>\n",
       "      <td>Jurassic World</td>\n",
       "      <td>Chris Pratt|Bryce Dallas Howard|Irrfan Khan|Vi...</td>\n",
       "      <td>Colin Trevorrow</td>\n",
       "      <td>124</td>\n",
       "      <td>Action|Adventure|Science Fiction|Thriller</td>\n",
       "      <td>Universal Studios|Amblin Entertainment|Legenda...</td>\n",
       "      <td>6/9/15</td>\n",
       "      <td>5562</td>\n",
       "      <td>6.5</td>\n",
       "      <td>2015</td>\n",
       "      <td>1.379999e+08</td>\n",
       "      <td>1.392446e+09</td>\n",
       "    </tr>\n",
       "    <tr>\n",
       "      <th>1</th>\n",
       "      <td>28.419936</td>\n",
       "      <td>150000000</td>\n",
       "      <td>378436354</td>\n",
       "      <td>Mad Max: Fury Road</td>\n",
       "      <td>Tom Hardy|Charlize Theron|Hugh Keays-Byrne|Nic...</td>\n",
       "      <td>George Miller</td>\n",
       "      <td>120</td>\n",
       "      <td>Action|Adventure|Science Fiction|Thriller</td>\n",
       "      <td>Village Roadshow Pictures|Kennedy Miller Produ...</td>\n",
       "      <td>5/13/15</td>\n",
       "      <td>6185</td>\n",
       "      <td>7.1</td>\n",
       "      <td>2015</td>\n",
       "      <td>1.379999e+08</td>\n",
       "      <td>3.481613e+08</td>\n",
       "    </tr>\n",
       "    <tr>\n",
       "      <th>2</th>\n",
       "      <td>13.112507</td>\n",
       "      <td>110000000</td>\n",
       "      <td>295238201</td>\n",
       "      <td>Insurgent</td>\n",
       "      <td>Shailene Woodley|Theo James|Kate Winslet|Ansel...</td>\n",
       "      <td>Robert Schwentke</td>\n",
       "      <td>119</td>\n",
       "      <td>Adventure|Science Fiction|Thriller</td>\n",
       "      <td>Summit Entertainment|Mandeville Films|Red Wago...</td>\n",
       "      <td>3/18/15</td>\n",
       "      <td>2480</td>\n",
       "      <td>6.3</td>\n",
       "      <td>2015</td>\n",
       "      <td>1.012000e+08</td>\n",
       "      <td>2.716190e+08</td>\n",
       "    </tr>\n",
       "    <tr>\n",
       "      <th>3</th>\n",
       "      <td>11.173104</td>\n",
       "      <td>200000000</td>\n",
       "      <td>2068178225</td>\n",
       "      <td>Star Wars: The Force Awakens</td>\n",
       "      <td>Harrison Ford|Mark Hamill|Carrie Fisher|Adam D...</td>\n",
       "      <td>J.J. Abrams</td>\n",
       "      <td>136</td>\n",
       "      <td>Action|Adventure|Science Fiction|Fantasy</td>\n",
       "      <td>Lucasfilm|Truenorth Productions|Bad Robot</td>\n",
       "      <td>12/15/15</td>\n",
       "      <td>5292</td>\n",
       "      <td>7.5</td>\n",
       "      <td>2015</td>\n",
       "      <td>1.839999e+08</td>\n",
       "      <td>1.902723e+09</td>\n",
       "    </tr>\n",
       "    <tr>\n",
       "      <th>4</th>\n",
       "      <td>9.335014</td>\n",
       "      <td>190000000</td>\n",
       "      <td>1506249360</td>\n",
       "      <td>Furious 7</td>\n",
       "      <td>Vin Diesel|Paul Walker|Jason Statham|Michelle ...</td>\n",
       "      <td>James Wan</td>\n",
       "      <td>137</td>\n",
       "      <td>Action|Crime|Thriller</td>\n",
       "      <td>Universal Pictures|Original Film|Media Rights ...</td>\n",
       "      <td>4/1/15</td>\n",
       "      <td>2947</td>\n",
       "      <td>7.3</td>\n",
       "      <td>2015</td>\n",
       "      <td>1.747999e+08</td>\n",
       "      <td>1.385749e+09</td>\n",
       "    </tr>\n",
       "  </tbody>\n",
       "</table>\n",
       "</div>"
      ],
      "text/plain": [
       "   popularity     budget     revenue                original_title  \\\n",
       "0   32.985763  150000000  1513528810                Jurassic World   \n",
       "1   28.419936  150000000   378436354            Mad Max: Fury Road   \n",
       "2   13.112507  110000000   295238201                     Insurgent   \n",
       "3   11.173104  200000000  2068178225  Star Wars: The Force Awakens   \n",
       "4    9.335014  190000000  1506249360                     Furious 7   \n",
       "\n",
       "                                                cast          director  \\\n",
       "0  Chris Pratt|Bryce Dallas Howard|Irrfan Khan|Vi...   Colin Trevorrow   \n",
       "1  Tom Hardy|Charlize Theron|Hugh Keays-Byrne|Nic...     George Miller   \n",
       "2  Shailene Woodley|Theo James|Kate Winslet|Ansel...  Robert Schwentke   \n",
       "3  Harrison Ford|Mark Hamill|Carrie Fisher|Adam D...       J.J. Abrams   \n",
       "4  Vin Diesel|Paul Walker|Jason Statham|Michelle ...         James Wan   \n",
       "\n",
       "   runtime                                     genres  \\\n",
       "0      124  Action|Adventure|Science Fiction|Thriller   \n",
       "1      120  Action|Adventure|Science Fiction|Thriller   \n",
       "2      119         Adventure|Science Fiction|Thriller   \n",
       "3      136   Action|Adventure|Science Fiction|Fantasy   \n",
       "4      137                      Action|Crime|Thriller   \n",
       "\n",
       "                                production_companies release_date  vote_count  \\\n",
       "0  Universal Studios|Amblin Entertainment|Legenda...       6/9/15        5562   \n",
       "1  Village Roadshow Pictures|Kennedy Miller Produ...      5/13/15        6185   \n",
       "2  Summit Entertainment|Mandeville Films|Red Wago...      3/18/15        2480   \n",
       "3          Lucasfilm|Truenorth Productions|Bad Robot     12/15/15        5292   \n",
       "4  Universal Pictures|Original Film|Media Rights ...       4/1/15        2947   \n",
       "\n",
       "   vote_average  release_year    budget_adj   revenue_adj  \n",
       "0           6.5          2015  1.379999e+08  1.392446e+09  \n",
       "1           7.1          2015  1.379999e+08  3.481613e+08  \n",
       "2           6.3          2015  1.012000e+08  2.716190e+08  \n",
       "3           7.5          2015  1.839999e+08  1.902723e+09  \n",
       "4           7.3          2015  1.747999e+08  1.385749e+09  "
      ]
     },
     "execution_count": 7,
     "metadata": {},
     "output_type": "execute_result"
    }
   ],
   "source": [
    "df.head()"
   ]
  },
  {
   "cell_type": "code",
   "execution_count": 8,
   "metadata": {},
   "outputs": [
    {
     "data": {
      "text/plain": [
       "1"
      ]
     },
     "execution_count": 8,
     "metadata": {},
     "output_type": "execute_result"
    }
   ],
   "source": [
    "#num of duplicated rows\n",
    "df.duplicated().sum()"
   ]
  },
  {
   "cell_type": "code",
   "execution_count": 9,
   "metadata": {},
   "outputs": [],
   "source": [
    "#drop duplicated\n",
    "df.drop_duplicates(inplace=True)"
   ]
  },
  {
   "cell_type": "code",
   "execution_count": 10,
   "metadata": {},
   "outputs": [
    {
     "data": {
      "text/plain": [
       "popularity                 0\n",
       "budget                     0\n",
       "revenue                    0\n",
       "original_title             0\n",
       "cast                      76\n",
       "director                  44\n",
       "runtime                    0\n",
       "genres                    23\n",
       "production_companies    1030\n",
       "release_date               0\n",
       "vote_count                 0\n",
       "vote_average               0\n",
       "release_year               0\n",
       "budget_adj                 0\n",
       "revenue_adj                0\n",
       "dtype: int64"
      ]
     },
     "execution_count": 10,
     "metadata": {},
     "output_type": "execute_result"
    }
   ],
   "source": [
    "#num of nans in each column\n",
    "df.isna().sum()"
   ]
  },
  {
   "cell_type": "code",
   "execution_count": 11,
   "metadata": {},
   "outputs": [
    {
     "data": {
      "image/png": "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\n",
      "text/plain": [
       "<Figure size 1296x1296 with 9 Axes>"
      ]
     },
     "metadata": {
      "needs_background": "light"
     },
     "output_type": "display_data"
    }
   ],
   "source": [
    "df.hist(figsize = (18,18));"
   ]
  },
  {
   "cell_type": "code",
   "execution_count": 12,
   "metadata": {},
   "outputs": [
    {
     "name": "stdout",
     "output_type": "stream",
     "text": [
      "number of movies with zero budget =  5696\n"
     ]
    }
   ],
   "source": [
    "(num,col)=df[df['budget']==0].shape\n",
    "print(\"number of movies with zero budget = \",num)"
   ]
  },
  {
   "cell_type": "code",
   "execution_count": 13,
   "metadata": {},
   "outputs": [
    {
     "name": "stdout",
     "output_type": "stream",
     "text": [
      "number of movies with zero revenue =  6016\n"
     ]
    }
   ],
   "source": [
    "(num,col) = df[df['revenue']==0].shape\n",
    "print(\"number of movies with zero revenue = \",num)"
   ]
  },
  {
   "cell_type": "code",
   "execution_count": 14,
   "metadata": {},
   "outputs": [],
   "source": [
    "#drop buget = zero\n",
    "df.drop(df.loc[df['budget']==0].index, inplace=True)"
   ]
  },
  {
   "cell_type": "code",
   "execution_count": 15,
   "metadata": {},
   "outputs": [
    {
     "name": "stdout",
     "output_type": "stream",
     "text": [
      "number of movies with zero budget =  0\n"
     ]
    }
   ],
   "source": [
    "(num,col)=df[df['budget']==0].shape\n",
    "print(\"number of movies with zero budget = \",num)"
   ]
  },
  {
   "cell_type": "code",
   "execution_count": 16,
   "metadata": {},
   "outputs": [],
   "source": [
    "#drop revenue = zero\n",
    "df.drop(df.loc[df['revenue']==0].index, inplace=True)"
   ]
  },
  {
   "cell_type": "code",
   "execution_count": 17,
   "metadata": {},
   "outputs": [
    {
     "name": "stdout",
     "output_type": "stream",
     "text": [
      "number of movies with zero revenue =  0\n"
     ]
    }
   ],
   "source": [
    "(num,col)=df[df['revenue']==0].shape\n",
    "print(\"number of movies with zero revenue = \",num)"
   ]
  },
  {
   "cell_type": "code",
   "execution_count": 18,
   "metadata": {},
   "outputs": [],
   "source": [
    "# add profit column\n",
    "df[\"profit\"] = df[\"revenue\"] - df[\"budget\"]"
   ]
  },
  {
   "cell_type": "code",
   "execution_count": 19,
   "metadata": {},
   "outputs": [
    {
     "data": {
      "text/html": [
       "<div>\n",
       "<style scoped>\n",
       "    .dataframe tbody tr th:only-of-type {\n",
       "        vertical-align: middle;\n",
       "    }\n",
       "\n",
       "    .dataframe tbody tr th {\n",
       "        vertical-align: top;\n",
       "    }\n",
       "\n",
       "    .dataframe thead th {\n",
       "        text-align: right;\n",
       "    }\n",
       "</style>\n",
       "<table border=\"1\" class=\"dataframe\">\n",
       "  <thead>\n",
       "    <tr style=\"text-align: right;\">\n",
       "      <th></th>\n",
       "      <th>popularity</th>\n",
       "      <th>budget</th>\n",
       "      <th>revenue</th>\n",
       "      <th>original_title</th>\n",
       "      <th>cast</th>\n",
       "      <th>director</th>\n",
       "      <th>runtime</th>\n",
       "      <th>genres</th>\n",
       "      <th>production_companies</th>\n",
       "      <th>release_date</th>\n",
       "      <th>vote_count</th>\n",
       "      <th>vote_average</th>\n",
       "      <th>release_year</th>\n",
       "      <th>budget_adj</th>\n",
       "      <th>revenue_adj</th>\n",
       "      <th>profit</th>\n",
       "    </tr>\n",
       "  </thead>\n",
       "  <tbody>\n",
       "    <tr>\n",
       "      <th>0</th>\n",
       "      <td>32.985763</td>\n",
       "      <td>150000000</td>\n",
       "      <td>1513528810</td>\n",
       "      <td>Jurassic World</td>\n",
       "      <td>Chris Pratt|Bryce Dallas Howard|Irrfan Khan|Vi...</td>\n",
       "      <td>Colin Trevorrow</td>\n",
       "      <td>124</td>\n",
       "      <td>Action|Adventure|Science Fiction|Thriller</td>\n",
       "      <td>Universal Studios|Amblin Entertainment|Legenda...</td>\n",
       "      <td>6/9/15</td>\n",
       "      <td>5562</td>\n",
       "      <td>6.5</td>\n",
       "      <td>2015</td>\n",
       "      <td>1.379999e+08</td>\n",
       "      <td>1.392446e+09</td>\n",
       "      <td>1363528810</td>\n",
       "    </tr>\n",
       "  </tbody>\n",
       "</table>\n",
       "</div>"
      ],
      "text/plain": [
       "   popularity     budget     revenue  original_title  \\\n",
       "0   32.985763  150000000  1513528810  Jurassic World   \n",
       "\n",
       "                                                cast         director  \\\n",
       "0  Chris Pratt|Bryce Dallas Howard|Irrfan Khan|Vi...  Colin Trevorrow   \n",
       "\n",
       "   runtime                                     genres  \\\n",
       "0      124  Action|Adventure|Science Fiction|Thriller   \n",
       "\n",
       "                                production_companies release_date  vote_count  \\\n",
       "0  Universal Studios|Amblin Entertainment|Legenda...       6/9/15        5562   \n",
       "\n",
       "   vote_average  release_year    budget_adj   revenue_adj      profit  \n",
       "0           6.5          2015  1.379999e+08  1.392446e+09  1363528810  "
      ]
     },
     "execution_count": 19,
     "metadata": {},
     "output_type": "execute_result"
    }
   ],
   "source": [
    "# check after edit\n",
    "df.head(1)"
   ]
  },
  {
   "cell_type": "code",
   "execution_count": 20,
   "metadata": {},
   "outputs": [
    {
     "name": "stdout",
     "output_type": "stream",
     "text": [
      "<class 'pandas.core.frame.DataFrame'>\n",
      "Int64Index: 3854 entries, 0 to 10848\n",
      "Data columns (total 16 columns):\n",
      " #   Column                Non-Null Count  Dtype  \n",
      "---  ------                --------------  -----  \n",
      " 0   popularity            3854 non-null   float64\n",
      " 1   budget                3854 non-null   int64  \n",
      " 2   revenue               3854 non-null   int64  \n",
      " 3   original_title        3854 non-null   object \n",
      " 4   cast                  3850 non-null   object \n",
      " 5   director              3853 non-null   object \n",
      " 6   runtime               3854 non-null   int64  \n",
      " 7   genres                3854 non-null   object \n",
      " 8   production_companies  3808 non-null   object \n",
      " 9   release_date          3854 non-null   object \n",
      " 10  vote_count            3854 non-null   int64  \n",
      " 11  vote_average          3854 non-null   float64\n",
      " 12  release_year          3854 non-null   int64  \n",
      " 13  budget_adj            3854 non-null   float64\n",
      " 14  revenue_adj           3854 non-null   float64\n",
      " 15  profit                3854 non-null   int64  \n",
      "dtypes: float64(4), int64(6), object(6)\n",
      "memory usage: 511.9+ KB\n"
     ]
    }
   ],
   "source": [
    "df.info()"
   ]
  },
  {
   "cell_type": "code",
   "execution_count": 21,
   "metadata": {},
   "outputs": [
    {
     "data": {
      "text/plain": [
       "popularity               0\n",
       "budget                   0\n",
       "revenue                  0\n",
       "original_title           0\n",
       "cast                     4\n",
       "director                 1\n",
       "runtime                  0\n",
       "genres                   0\n",
       "production_companies    46\n",
       "release_date             0\n",
       "vote_count               0\n",
       "vote_average             0\n",
       "release_year             0\n",
       "budget_adj               0\n",
       "revenue_adj              0\n",
       "profit                   0\n",
       "dtype: int64"
      ]
     },
     "execution_count": 21,
     "metadata": {},
     "output_type": "execute_result"
    }
   ],
   "source": [
    "#check number of nan after removing zero values\n",
    "df.isna().sum()"
   ]
  },
  {
   "cell_type": "code",
   "execution_count": 22,
   "metadata": {},
   "outputs": [
    {
     "data": {
      "text/plain": [
       "array([2015, 2014, 1977, 2009, 2010, 1999, 2001, 2008, 2011, 2002, 1994,\n",
       "       2012, 2003, 1997, 2013, 1985, 2005, 2006, 2004, 1972, 1980, 2007,\n",
       "       1979, 1984, 1983, 1995, 1992, 1981, 1996, 2000, 1982, 1998, 1989,\n",
       "       1991, 1988, 1987, 1968, 1974, 1975, 1962, 1964, 1971, 1990, 1961,\n",
       "       1960, 1976, 1993, 1967, 1963, 1986, 1973, 1970, 1965, 1969, 1978,\n",
       "       1966], dtype=int64)"
      ]
     },
     "execution_count": 22,
     "metadata": {},
     "output_type": "execute_result"
    }
   ],
   "source": [
    "#check years\n",
    "df[\"release_year\"].unique()"
   ]
  },
  {
   "cell_type": "code",
   "execution_count": 23,
   "metadata": {},
   "outputs": [
    {
     "data": {
      "text/plain": [
       "(1714,)"
      ]
     },
     "execution_count": 23,
     "metadata": {},
     "output_type": "execute_result"
    }
   ],
   "source": [
    "df[\"director\"].unique().shape"
   ]
  },
  {
   "cell_type": "markdown",
   "metadata": {},
   "source": [
    "<a id='eda'></a>\n",
    "## Exploratory Data Analysis\n",
    "### Research Question 1 (does the industry grows? (year profit relation)!)"
   ]
  },
  {
   "cell_type": "code",
   "execution_count": 24,
   "metadata": {},
   "outputs": [],
   "source": [
    "# Use this, and more code cells, to explore your data. Don't forget to add\n",
    "#   Markdown cells to document your observations and findings.\n",
    "features = [\"release_year\", \"profit\"]\n",
    "df_growth = df.loc[:,features]"
   ]
  },
  {
   "cell_type": "code",
   "execution_count": 25,
   "metadata": {},
   "outputs": [
    {
     "data": {
      "text/html": [
       "<div>\n",
       "<style scoped>\n",
       "    .dataframe tbody tr th:only-of-type {\n",
       "        vertical-align: middle;\n",
       "    }\n",
       "\n",
       "    .dataframe tbody tr th {\n",
       "        vertical-align: top;\n",
       "    }\n",
       "\n",
       "    .dataframe thead th {\n",
       "        text-align: right;\n",
       "    }\n",
       "</style>\n",
       "<table border=\"1\" class=\"dataframe\">\n",
       "  <thead>\n",
       "    <tr style=\"text-align: right;\">\n",
       "      <th></th>\n",
       "      <th>release_year</th>\n",
       "      <th>profit</th>\n",
       "    </tr>\n",
       "  </thead>\n",
       "  <tbody>\n",
       "    <tr>\n",
       "      <th>0</th>\n",
       "      <td>2015</td>\n",
       "      <td>1363528810</td>\n",
       "    </tr>\n",
       "    <tr>\n",
       "      <th>1</th>\n",
       "      <td>2015</td>\n",
       "      <td>228436354</td>\n",
       "    </tr>\n",
       "    <tr>\n",
       "      <th>2</th>\n",
       "      <td>2015</td>\n",
       "      <td>185238201</td>\n",
       "    </tr>\n",
       "    <tr>\n",
       "      <th>3</th>\n",
       "      <td>2015</td>\n",
       "      <td>1868178225</td>\n",
       "    </tr>\n",
       "    <tr>\n",
       "      <th>4</th>\n",
       "      <td>2015</td>\n",
       "      <td>1316249360</td>\n",
       "    </tr>\n",
       "  </tbody>\n",
       "</table>\n",
       "</div>"
      ],
      "text/plain": [
       "   release_year      profit\n",
       "0          2015  1363528810\n",
       "1          2015   228436354\n",
       "2          2015   185238201\n",
       "3          2015  1868178225\n",
       "4          2015  1316249360"
      ]
     },
     "execution_count": 25,
     "metadata": {},
     "output_type": "execute_result"
    }
   ],
   "source": [
    "#selected  features \n",
    "df_growth.head()"
   ]
  },
  {
   "cell_type": "code",
   "execution_count": 26,
   "metadata": {},
   "outputs": [
    {
     "data": {
      "text/html": [
       "<div>\n",
       "<style scoped>\n",
       "    .dataframe tbody tr th:only-of-type {\n",
       "        vertical-align: middle;\n",
       "    }\n",
       "\n",
       "    .dataframe tbody tr th {\n",
       "        vertical-align: top;\n",
       "    }\n",
       "\n",
       "    .dataframe thead th {\n",
       "        text-align: right;\n",
       "    }\n",
       "</style>\n",
       "<table border=\"1\" class=\"dataframe\">\n",
       "  <thead>\n",
       "    <tr style=\"text-align: right;\">\n",
       "      <th></th>\n",
       "      <th>profit</th>\n",
       "    </tr>\n",
       "    <tr>\n",
       "      <th>release_year</th>\n",
       "      <th></th>\n",
       "    </tr>\n",
       "  </thead>\n",
       "  <tbody>\n",
       "    <tr>\n",
       "      <th>1960</th>\n",
       "      <td>2.163961e+07</td>\n",
       "    </tr>\n",
       "    <tr>\n",
       "      <th>1961</th>\n",
       "      <td>2.990832e+07</td>\n",
       "    </tr>\n",
       "    <tr>\n",
       "      <th>1962</th>\n",
       "      <td>2.383998e+07</td>\n",
       "    </tr>\n",
       "    <tr>\n",
       "      <th>1963</th>\n",
       "      <td>1.923531e+07</td>\n",
       "    </tr>\n",
       "    <tr>\n",
       "      <th>1964</th>\n",
       "      <td>4.209691e+07</td>\n",
       "    </tr>\n",
       "    <tr>\n",
       "      <th>1965</th>\n",
       "      <td>7.985637e+07</td>\n",
       "    </tr>\n",
       "    <tr>\n",
       "      <th>1966</th>\n",
       "      <td>1.049374e+07</td>\n",
       "    </tr>\n",
       "    <tr>\n",
       "      <th>1967</th>\n",
       "      <td>4.894882e+07</td>\n",
       "    </tr>\n",
       "    <tr>\n",
       "      <th>1968</th>\n",
       "      <td>1.869686e+07</td>\n",
       "    </tr>\n",
       "    <tr>\n",
       "      <th>1969</th>\n",
       "      <td>5.171575e+07</td>\n",
       "    </tr>\n",
       "  </tbody>\n",
       "</table>\n",
       "</div>"
      ],
      "text/plain": [
       "                    profit\n",
       "release_year              \n",
       "1960          2.163961e+07\n",
       "1961          2.990832e+07\n",
       "1962          2.383998e+07\n",
       "1963          1.923531e+07\n",
       "1964          4.209691e+07\n",
       "1965          7.985637e+07\n",
       "1966          1.049374e+07\n",
       "1967          4.894882e+07\n",
       "1968          1.869686e+07\n",
       "1969          5.171575e+07"
      ]
     },
     "execution_count": 26,
     "metadata": {},
     "output_type": "execute_result"
    }
   ],
   "source": [
    "#mean version \n",
    "df_growth_mean = df_growth.groupby(['release_year']).mean()\n",
    "df_growth_mean.head(10)"
   ]
  },
  {
   "cell_type": "code",
   "execution_count": 27,
   "metadata": {},
   "outputs": [
    {
     "data": {
      "text/html": [
       "<div>\n",
       "<style scoped>\n",
       "    .dataframe tbody tr th:only-of-type {\n",
       "        vertical-align: middle;\n",
       "    }\n",
       "\n",
       "    .dataframe tbody tr th {\n",
       "        vertical-align: top;\n",
       "    }\n",
       "\n",
       "    .dataframe thead th {\n",
       "        text-align: right;\n",
       "    }\n",
       "</style>\n",
       "<table border=\"1\" class=\"dataframe\">\n",
       "  <thead>\n",
       "    <tr style=\"text-align: right;\">\n",
       "      <th></th>\n",
       "      <th>profit</th>\n",
       "    </tr>\n",
       "    <tr>\n",
       "      <th>release_year</th>\n",
       "      <th></th>\n",
       "    </tr>\n",
       "  </thead>\n",
       "  <tbody>\n",
       "    <tr>\n",
       "      <th>1960</th>\n",
       "      <td>108198052</td>\n",
       "    </tr>\n",
       "    <tr>\n",
       "      <th>1961</th>\n",
       "      <td>299083188</td>\n",
       "    </tr>\n",
       "    <tr>\n",
       "      <th>1962</th>\n",
       "      <td>166879846</td>\n",
       "    </tr>\n",
       "    <tr>\n",
       "      <th>1963</th>\n",
       "      <td>115411882</td>\n",
       "    </tr>\n",
       "    <tr>\n",
       "      <th>1964</th>\n",
       "      <td>294678387</td>\n",
       "    </tr>\n",
       "    <tr>\n",
       "      <th>1965</th>\n",
       "      <td>399281854</td>\n",
       "    </tr>\n",
       "    <tr>\n",
       "      <th>1966</th>\n",
       "      <td>52468689</td>\n",
       "    </tr>\n",
       "    <tr>\n",
       "      <th>1967</th>\n",
       "      <td>636334637</td>\n",
       "    </tr>\n",
       "    <tr>\n",
       "      <th>1968</th>\n",
       "      <td>168271762</td>\n",
       "    </tr>\n",
       "    <tr>\n",
       "      <th>1969</th>\n",
       "      <td>206862989</td>\n",
       "    </tr>\n",
       "  </tbody>\n",
       "</table>\n",
       "</div>"
      ],
      "text/plain": [
       "                 profit\n",
       "release_year           \n",
       "1960          108198052\n",
       "1961          299083188\n",
       "1962          166879846\n",
       "1963          115411882\n",
       "1964          294678387\n",
       "1965          399281854\n",
       "1966           52468689\n",
       "1967          636334637\n",
       "1968          168271762\n",
       "1969          206862989"
      ]
     },
     "execution_count": 27,
     "metadata": {},
     "output_type": "execute_result"
    }
   ],
   "source": [
    "# total version\n",
    "df_growth_sum = df_growth.groupby(['release_year']).sum()\n",
    "df_growth_sum.head(10)"
   ]
  },
  {
   "cell_type": "code",
   "execution_count": 28,
   "metadata": {},
   "outputs": [],
   "source": [
    "df_growth_mean.sort_values(by = \"profit\",ascending=False, inplace=True)\n",
    "graph_df_growth_mean = df_growth_mean.head(10)"
   ]
  },
  {
   "cell_type": "code",
   "execution_count": 29,
   "metadata": {},
   "outputs": [
    {
     "data": {
      "image/png": "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\n",
      "text/plain": [
       "<Figure size 432x288 with 1 Axes>"
      ]
     },
     "metadata": {
      "needs_background": "light"
     },
     "output_type": "display_data"
    }
   ],
   "source": [
    "graph_df_growth_mean.plot(y='profit', use_index=True, kind = \"bar\",title='Average profit per movie');"
   ]
  },
  {
   "cell_type": "code",
   "execution_count": 30,
   "metadata": {},
   "outputs": [],
   "source": [
    "df_growth_sum.sort_values(by = \"profit\",ascending=False, inplace=True)\n",
    "graph_df_growth_sum = df_growth_sum.head(10)"
   ]
  },
  {
   "cell_type": "code",
   "execution_count": 31,
   "metadata": {},
   "outputs": [
    {
     "data": {
      "image/png": "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\n",
      "text/plain": [
       "<Figure size 432x288 with 1 Axes>"
      ]
     },
     "metadata": {
      "needs_background": "light"
     },
     "output_type": "display_data"
    }
   ],
   "source": [
    "graph_df_growth_sum.plot(y='profit', use_index=True, kind = \"bar\",title='total profit for each year');"
   ]
  },
  {
   "cell_type": "markdown",
   "metadata": {},
   "source": [
    "over all yes it increases but in some years (masterpieces) this relation does not holds"
   ]
  },
  {
   "cell_type": "markdown",
   "metadata": {},
   "source": [
    "### Research Question 2  (Best directors when comes to profit)"
   ]
  },
  {
   "cell_type": "code",
   "execution_count": 32,
   "metadata": {},
   "outputs": [],
   "source": [
    "features = [\"director\", \"profit\"]\n",
    "#drop nan as there were some nan values in directory\n",
    "df_no_nan = df.dropna()\n",
    "df_director = df_no_nan.loc[:,features]"
   ]
  },
  {
   "cell_type": "code",
   "execution_count": 33,
   "metadata": {},
   "outputs": [
    {
     "data": {
      "text/html": [
       "<div>\n",
       "<style scoped>\n",
       "    .dataframe tbody tr th:only-of-type {\n",
       "        vertical-align: middle;\n",
       "    }\n",
       "\n",
       "    .dataframe tbody tr th {\n",
       "        vertical-align: top;\n",
       "    }\n",
       "\n",
       "    .dataframe thead th {\n",
       "        text-align: right;\n",
       "    }\n",
       "</style>\n",
       "<table border=\"1\" class=\"dataframe\">\n",
       "  <thead>\n",
       "    <tr style=\"text-align: right;\">\n",
       "      <th></th>\n",
       "      <th>director</th>\n",
       "      <th>profit</th>\n",
       "    </tr>\n",
       "  </thead>\n",
       "  <tbody>\n",
       "    <tr>\n",
       "      <th>0</th>\n",
       "      <td>Colin Trevorrow</td>\n",
       "      <td>1363528810</td>\n",
       "    </tr>\n",
       "    <tr>\n",
       "      <th>1</th>\n",
       "      <td>George Miller</td>\n",
       "      <td>228436354</td>\n",
       "    </tr>\n",
       "    <tr>\n",
       "      <th>2</th>\n",
       "      <td>Robert Schwentke</td>\n",
       "      <td>185238201</td>\n",
       "    </tr>\n",
       "    <tr>\n",
       "      <th>3</th>\n",
       "      <td>J.J. Abrams</td>\n",
       "      <td>1868178225</td>\n",
       "    </tr>\n",
       "    <tr>\n",
       "      <th>4</th>\n",
       "      <td>James Wan</td>\n",
       "      <td>1316249360</td>\n",
       "    </tr>\n",
       "  </tbody>\n",
       "</table>\n",
       "</div>"
      ],
      "text/plain": [
       "           director      profit\n",
       "0   Colin Trevorrow  1363528810\n",
       "1     George Miller   228436354\n",
       "2  Robert Schwentke   185238201\n",
       "3       J.J. Abrams  1868178225\n",
       "4         James Wan  1316249360"
      ]
     },
     "execution_count": 33,
     "metadata": {},
     "output_type": "execute_result"
    }
   ],
   "source": [
    "df_director.head()"
   ]
  },
  {
   "cell_type": "code",
   "execution_count": 34,
   "metadata": {},
   "outputs": [
    {
     "data": {
      "text/html": [
       "<div>\n",
       "<style scoped>\n",
       "    .dataframe tbody tr th:only-of-type {\n",
       "        vertical-align: middle;\n",
       "    }\n",
       "\n",
       "    .dataframe tbody tr th {\n",
       "        vertical-align: top;\n",
       "    }\n",
       "\n",
       "    .dataframe thead th {\n",
       "        text-align: right;\n",
       "    }\n",
       "</style>\n",
       "<table border=\"1\" class=\"dataframe\">\n",
       "  <thead>\n",
       "    <tr style=\"text-align: right;\">\n",
       "      <th></th>\n",
       "      <th>profit</th>\n",
       "    </tr>\n",
       "    <tr>\n",
       "      <th>director</th>\n",
       "      <th></th>\n",
       "    </tr>\n",
       "  </thead>\n",
       "  <tbody>\n",
       "    <tr>\n",
       "      <th>FrÃ©dÃ©ric Jardin</th>\n",
       "      <td>-2.496642e+06</td>\n",
       "    </tr>\n",
       "    <tr>\n",
       "      <th>Aaron Blaise|Robert Walker</th>\n",
       "      <td>-9.999975e+07</td>\n",
       "    </tr>\n",
       "    <tr>\n",
       "      <th>Aaron Seltzer|Jason Friedberg</th>\n",
       "      <td>2.854843e+07</td>\n",
       "    </tr>\n",
       "    <tr>\n",
       "      <th>Abbas Tyrewala</th>\n",
       "      <td>8.800000e+06</td>\n",
       "    </tr>\n",
       "    <tr>\n",
       "      <th>Abe Sylvia</th>\n",
       "      <td>-3.944875e+06</td>\n",
       "    </tr>\n",
       "    <tr>\n",
       "      <th>Abel Ferrara</th>\n",
       "      <td>-3.332396e+06</td>\n",
       "    </tr>\n",
       "    <tr>\n",
       "      <th>Adam Green</th>\n",
       "      <td>-2.447396e+06</td>\n",
       "    </tr>\n",
       "    <tr>\n",
       "      <th>Adam Marcus</th>\n",
       "      <td>-2.999985e+06</td>\n",
       "    </tr>\n",
       "    <tr>\n",
       "      <th>Adam McKay</th>\n",
       "      <td>8.626274e+07</td>\n",
       "    </tr>\n",
       "    <tr>\n",
       "      <th>Adam Rifkin</th>\n",
       "      <td>-2.388678e+07</td>\n",
       "    </tr>\n",
       "  </tbody>\n",
       "</table>\n",
       "</div>"
      ],
      "text/plain": [
       "                                     profit\n",
       "director                                   \n",
       " FrÃ©dÃ©ric Jardin            -2.496642e+06\n",
       "Aaron Blaise|Robert Walker    -9.999975e+07\n",
       "Aaron Seltzer|Jason Friedberg  2.854843e+07\n",
       "Abbas Tyrewala                 8.800000e+06\n",
       "Abe Sylvia                    -3.944875e+06\n",
       "Abel Ferrara                  -3.332396e+06\n",
       "Adam Green                    -2.447396e+06\n",
       "Adam Marcus                   -2.999985e+06\n",
       "Adam McKay                     8.626274e+07\n",
       "Adam Rifkin                   -2.388678e+07"
      ]
     },
     "execution_count": 34,
     "metadata": {},
     "output_type": "execute_result"
    }
   ],
   "source": [
    "df_director_mean = df_director.groupby(['director']).mean()\n",
    "df_director_mean.head(10)"
   ]
  },
  {
   "cell_type": "code",
   "execution_count": 35,
   "metadata": {},
   "outputs": [
    {
     "data": {
      "text/html": [
       "<div>\n",
       "<style scoped>\n",
       "    .dataframe tbody tr th:only-of-type {\n",
       "        vertical-align: middle;\n",
       "    }\n",
       "\n",
       "    .dataframe tbody tr th {\n",
       "        vertical-align: top;\n",
       "    }\n",
       "\n",
       "    .dataframe thead th {\n",
       "        text-align: right;\n",
       "    }\n",
       "</style>\n",
       "<table border=\"1\" class=\"dataframe\">\n",
       "  <thead>\n",
       "    <tr style=\"text-align: right;\">\n",
       "      <th></th>\n",
       "      <th>profit</th>\n",
       "    </tr>\n",
       "    <tr>\n",
       "      <th>director</th>\n",
       "      <th></th>\n",
       "    </tr>\n",
       "  </thead>\n",
       "  <tbody>\n",
       "    <tr>\n",
       "      <th>FrÃ©dÃ©ric Jardin</th>\n",
       "      <td>-2496642</td>\n",
       "    </tr>\n",
       "    <tr>\n",
       "      <th>Aaron Blaise|Robert Walker</th>\n",
       "      <td>-99999750</td>\n",
       "    </tr>\n",
       "    <tr>\n",
       "      <th>Aaron Seltzer|Jason Friedberg</th>\n",
       "      <td>28548426</td>\n",
       "    </tr>\n",
       "    <tr>\n",
       "      <th>Abbas Tyrewala</th>\n",
       "      <td>8800000</td>\n",
       "    </tr>\n",
       "    <tr>\n",
       "      <th>Abe Sylvia</th>\n",
       "      <td>-3944875</td>\n",
       "    </tr>\n",
       "    <tr>\n",
       "      <th>Abel Ferrara</th>\n",
       "      <td>-9997187</td>\n",
       "    </tr>\n",
       "    <tr>\n",
       "      <th>Adam Green</th>\n",
       "      <td>-2447396</td>\n",
       "    </tr>\n",
       "    <tr>\n",
       "      <th>Adam Marcus</th>\n",
       "      <td>-2999985</td>\n",
       "    </tr>\n",
       "    <tr>\n",
       "      <th>Adam McKay</th>\n",
       "      <td>517576455</td>\n",
       "    </tr>\n",
       "    <tr>\n",
       "      <th>Adam Rifkin</th>\n",
       "      <td>-47773556</td>\n",
       "    </tr>\n",
       "  </tbody>\n",
       "</table>\n",
       "</div>"
      ],
      "text/plain": [
       "                                  profit\n",
       "director                                \n",
       " FrÃ©dÃ©ric Jardin              -2496642\n",
       "Aaron Blaise|Robert Walker     -99999750\n",
       "Aaron Seltzer|Jason Friedberg   28548426\n",
       "Abbas Tyrewala                   8800000\n",
       "Abe Sylvia                      -3944875\n",
       "Abel Ferrara                    -9997187\n",
       "Adam Green                      -2447396\n",
       "Adam Marcus                     -2999985\n",
       "Adam McKay                     517576455\n",
       "Adam Rifkin                    -47773556"
      ]
     },
     "execution_count": 35,
     "metadata": {},
     "output_type": "execute_result"
    }
   ],
   "source": [
    "df_director_sum = df_director.groupby(['director']).sum()\n",
    "df_director_sum.head(10)"
   ]
  },
  {
   "cell_type": "code",
   "execution_count": 36,
   "metadata": {},
   "outputs": [],
   "source": [
    "df_director_mean.sort_values(by = \"profit\",ascending=False, inplace=True)\n",
    "graph_df_director_mean = df_director_mean.head(10)"
   ]
  },
  {
   "cell_type": "code",
   "execution_count": 37,
   "metadata": {},
   "outputs": [
    {
     "data": {
      "image/png": "iVBORw0KGgoAAAANSUhEUgAAAXQAAAHyCAYAAAD7ijWWAAAABHNCSVQICAgIfAhkiAAAAAlwSFlzAAALEgAACxIB0t1+/AAAADh0RVh0U29mdHdhcmUAbWF0cGxvdGxpYiB2ZXJzaW9uMy4yLjIsIGh0dHA6Ly9tYXRwbG90bGliLm9yZy+WH4yJAAAgAElEQVR4nOzdd7hcVdXH8e+PUEKvAelBRIpIEEIRUCmKgCAWlCJVBLGBXRAFBN/XhvqiqAFpVpCoICAICITeEggdNEKECEpTQHrg9/6x9ySTYW4BZvaZOXd9nuc+uXPm3LtX7r2zZp999l5btgkhhND/5qo6gBBCCJ0RCT2EEGoiEnoIIdREJPQQQqiJSOghhFATkdBDCKEmIqGH0ELS6pJulPSEpAMlTZD01arjKm2k/r/7mWIe+sgkaRIwDniN7WcrDqenSDoReNz2Z9o8tznwS9srFA8shCFED30EkjQWeAtg4N1d+P5zd/p7dsowY1sZuK3bsQyHpFFVxxD6RyT0kWlP4BrgFGAvAEnzSfqPpLUbJ0kaI+lpSUvnx9tLmprPu0rSOk3nTpf0JUk3A09KmlvSwZL+locubpf03qbzR0n6rqSHJd0j6ZOS3Ei4khaVdKKkByT9Q9LXB0puko6Q9FtJv8lt3SBp3BCxvVvSbfn/MknSmvnci4EtgGMl/VfS6yWdkttfEDgPWC4/919Jy7WJ55Q8XHFhjudSSSs3Pb9Gfu5RSXdJ+mDL1/5E0rmSnsyxtH7/STmeq3IMZ0taUtKvJD0u6fr8pt04f5N87LH87yb5+C6SJrd8789IOqsplq83PTfg7z/0CNvxMcI+gGnAx4H1geeBZfLxk4D/aTrvE8Cf8ufrAQ8CGwGjSG8E04H58vPTganAisD8+dgHgOVIHYedgSeBZfNzBwC3AysAiwN/Jl0xzJ2fPxM4DlgQWBq4DvjoAP+fI/L/YydgHuDzwD3APO1iA16fY3lHPv+L+Wcybz5/EvCRpu9/CvD1/PnmwIwhfr6nAE8AbwXmA44BrsjPLQjcB+wDzJ1/rg8Db2j62seATfPPbXSb7z8px7sqsGj+Of4FeHv+nj8HTs7nLgH8G9gjP7drfrwksECOc7Wm7309sEub//egv//46I2PSnvokk6S9KCkW4dx7sqSLpJ0c+6hxBjmKyBpM9KQwum2pwB/A3bLT/+a9IJv2C0fA9gPOM72tbZfsP0z4Flg46bzf2D7PttPA9ieaPt+2y/a/g3wV2DDfO4HgWNsz7D9b+CbTTEuA2wLfNr2k7YfBL4P7DLIf22K7d/afh74HjB6kNh2Bv5o+8J8/tGkRL/J4D+9l+WPti9zuj9xKPBmSSsC2wPTbZ9se6btG4Dfkd6MGv5g+8r8c3tmgO9/su2/2X6MdNXwN9t/tj0TmAi8KZ/3LuCvtn+R2zsVuBPYwfZTwB/Iv3NJqwFrAGe1aW84v/9QsaqHXE4BthnmuUcDP7e9DnAk8I1uBVVzewEX2H44P/51PgZwMTC/pI3yEMG6wBn5uZWBz+XL7f9I+g+px9s85HBfc0OS9my6RP8PsDawVH56uZbzmz9fmdRzfqDpa48j9dQHMuvrbb8IzBgktuWAv7ecfx+w/CDf/+Vqjue/wKO53ZWBjVp+jh8CXjNArAP5V9PnT7d5vFD+fI7/a/Z3Zv9fm9/EdwPOzIm+1XB+/6Fild68sn1Z81gfgKRVgR8BY4CngP1s3wmsBTRmHVxCuiQPL4Ok+Uk941GS/pkPzwcsJmmc7ZsknU56gf8LOMf2E/m8+0jDMf8zSBOzpkzlN4SfAlsBV9t+QdJUQPmUB0jDLQ0rNn1+H6n3t1TucQ7HrK+XNFf+3ve3iy0ff2PT+cpf/49htDPcaWHN8SxEGvq4n/R/u9T2OzrQxnDcT0rGzVYC/pQ/vwBYStK6pN/7S2b2ZMP5/YeKVd1Db+d44FO21yeNhf44H78JeH/+/L3AwpKWrCC+fvYe4AXSm+O6+WNN4HLSjVJIPbadSb3GXzd97U+BA3LvXZIWlPQuSQsP0NaCpMT0EICkfUg99IbTgYMkLS9pMeBLjSdsP0BKNN+VtIikuSStKultg/zf1pf0PqWbqp8mvSFcM8C5pwPvkrSVpHmAz+Xzrxrk+zf8C1hS0qJDnLedpM0kzQscBVxr+z7gHOD1kvaQNE/+2KBxU7YLzs3t7ZZvBu9M+v2fA5DfMH8LfIf0pnPhAN/n5f7+QwV6KqHnnswmwMTcmzsOWDY//XngbZJuBN5G6k0Nt/cWkr1IY6/32v5n4wM4FviQpLltX0u6YbgcaWwWANuTSeOox5Juqk0D9h6oIdu3A98FriYlwTcCVzad8lNS0r4ZuJGUeGaS3nAgvcHMS7rh929S0lmWgf2B9EbUuAH4vjw+3i62u4DdgR+SbkjuQBpTfm6Q79/42juBU4G789DDQEMOvwYOJw21rE96gyRf8WxNuh9wP/BP4FukK6WOs/0Iadz+c8AjpBvA2zcNuTVifTswcaAropf7+w/VqHxhUR5yOcf22pIWAe6yPdgLt5H473Qs7qgNSdsCE2y3Dg8M52uPAF5ne/eOB/YKSDqFNBPmK1XHEkaWnuqh234cuEfSByCNbSrPJ5a0VB4bBTiENMUu9ClJ80vaLg8DLE/qzZ4x1NeFEAZW9bTFU0mX5KtLmiFpX9Kl6b6SbiKt1tsxn745cJekvwDLAHFzpr8J+Brp8v1G4A7gsEojCqHPVT7kEkIIoTN6asglhBDCKxcJPYQQaqKyhUVLLbWUx44dW1XzIYTQl6ZMmfKw7THtnqssoY8dO5bJkycPfWIIIYRZJLWWcpglhlxCCKEmIqGHEEJNREIPIYSa6NmtwkIIoeH5559nxowZPPPMQOXh62f06NGssMIKzDPPPMP+mkjoIYSeN2PGDBZeeGHGjh1LqnZcb7Z55JFHmDFjBqusssqwvy6GXEIIPe+ZZ55hySWXHBHJHEASSy655Mu+IomEHkLoCyMlmTe8kv9vJPQQQuiyiRMnsuaaa7LFFlswefJkDjzwQAAmTZrEVVcNZ1+V4enpMfSxB//xVX399G++q0ORhBB6yavNDa06kSteeOEFRo0a1fa5E088kR//+MdsscUWAIwfPx5ICX2hhRZik006sz959NBDCGEI06dPZ4011mCvvfZinXXWYaedduKpp55i7NixHHnkkWy22WZMnDiRU089lTe+8Y2svfbafOlLaVfFI488kiuuuIIDDjiAL3zhC0yaNIntt9+e6dOnM2HCBL7//e+z7rrrcvnll7/qOHu6hx5CCL3irrvu4sQTT2TTTTflwx/+MD/+cdruePTo0VxxxRXcf//9bLzxxkyZMoXFF1+crbfemjPPPJPDDjuMiy++mKOPPprx48czadIkIJU/OeCAA1hooYX4/Oc/35EYo4ceQgjDsOKKK7LpppsCsPvuu3PFFVcAsPPOOwNw/fXXs/nmmzNmzBjmnntuPvShD3HZZZcVjTESegghDEPrrJPG4wUXXBBIc8erFgk9hBCG4d577+Xqq68G4NRTT2WzzTab4/mNNtqISy+9lIcffpgXXniBU089lbe97W2Dfs+FF16YJ554omMxRkIPIYRhWHPNNfnZz37GOuusw6OPPsrHPvaxOZ5fdtll+cY3vsEWW2zBuHHjWG+99dhxxx0H+G7JDjvswBlnnNGxm6KV7Sk6fvx4D1UPvRemLXZielRMnwzh1bnjjjtYc801K2t/+vTpbL/99tx6661F2233/5Y0xfb4dufHLJc+0QtvbiGE3hZDLiGEMISxY8cW752/EpHQQwihJiKhhxD6Qi9MCyzplfx/I6GHEHre6NGjeeSRR0ZMUm/UQx89evTL+rq4KRpC6HkrrLACM2bM4KGHHqo6lGIaOxa9HJHQQwg9b5555nlZO/eMVDHkEkIINREJPYQQaiISeggh1EQk9BBCqIkhE7qkkyQ9KKntMiklP5A0TdLNktbrfJghhBCGMpwe+inANoM8vy2wWv7YH/jJqw8rhBDCyzVkQrd9GfDoIKfsCPzcyTXAYpKW7VSAIYQQhqcTY+jLA/c1PZ6Rj4UQQiioEwldbY61XZ8raX9JkyVNHkkrvkIIoYROJPQZwIpNj1cA7m93ou3jbY+3PX7MmDEdaDqEEEJDJxL6WcCeebbLxsBjth/owPcNIYTwMgxZy0XSqcDmwFKSZgCHA/MA2J4AnAtsB0wDngL26VawIYQQBjZkQre96xDPG/hExyIKIYTwisRK0RBCqIlI6CGEUBOR0EMIoSYioYcQQk1EQg8hhJqIhB5CCDURCT2EEGoiEnoIIdREJPQQQqiJSOghhFATkdBDCKEmIqGHEEJNREIPIYSaiIQeQgg1EQk9hBBqIhJ6CCHURCT0EEKoiUjoIYRQE5HQQwihJiKhhxBCTQy5SXQIDWMP/uOr/h7Tv/muDkQSQmgneughhFATkdBDCKEmYsgl9JUY9glhYNFDDyGEmoiEHkIINREJPYQQaiISeggh1MSwErqkbSTdJWmapIPbPL+opLMl3STpNkn7dD7UEEIIgxkyoUsaBfwI2BZYC9hV0lotp30CuN32OGBz4LuS5u1wrCGEEAYxnGmLGwLTbN8NIOk0YEfg9qZzDCwsScBCwKPAzA7HGkLPiOmToRcNZ8hleeC+pscz8rFmxwJrAvcDtwAH2X6xIxGGEEIYluEkdLU55pbH7wSmAssB6wLHSlrkJd9I2l/SZEmTH3rooZcdbAghhIENJ6HPAFZserwCqSfebB/g906mAfcAa7R+I9vH2x5ve/yYMWNeacwhhBDaGE5Cvx5YTdIq+UbnLsBZLefcC2wFIGkZYHXg7k4GGkIIYXBD3hS1PVPSJ4HzgVHASbZvk3RAfn4CcBRwiqRbSEM0X7L9cBfjDmHEixuzodWwinPZPhc4t+XYhKbP7we27mxoIYQQXo6othhCeFV64UqhF2LoBbH0P4QQaiISeggh1EQk9BBCqIlI6CGEUBNxUzSEEDqk6puz0UMPIYSaiIQeQgg1EQk9hBBqIhJ6CCHURCT0EEKoiUjoIYRQE5HQQwihJiKhhxBCTURCDyGEmoiEHkIINREJPYQQaiISeggh1EQk9BBCqIlI6CGEUBOR0EMIoSYioYcQQk1EQg8hhJqIhB5CCDURCT2EEGoiEnoIIdREJPQQQqiJSOghhFATw0rokraRdJekaZIOHuCczSVNlXSbpEs7G2YIIYShzD3UCZJGAT8C3gHMAK6XdJbt25vOWQz4MbCN7XslLd2tgEMIIbQ3nB76hsA023fbfg44Ddix5ZzdgN/bvhfA9oOdDTOEEMJQhpPQlwfua3o8Ix9r9npgcUmTJE2RtGenAgwhhDA8Qw65AGpzzG2+z/rAVsD8wNWSrrH9lzm+kbQ/sD/ASiut9PKjDSGEMKDh9NBnACs2PV4BuL/NOX+y/aTth4HLgHGt38j28bbH2x4/ZsyYVxpzCCGENoaT0K8HVpO0iqR5gV2As1rO+QPwFklzS1oA2Ai4o7OhhhBCGMyQQy62Z0r6JHA+MAo4yfZtkg7Iz0+wfYekPwE3Ay8CJ9i+tZuBhxBCmNNwxtCxfS5wbsuxCS2PvwN8p3OhhRBCeDlipWgIIdREJPQQQqiJSOghhFATkdBDCKEmIqGHEEJNREIPIYSaiIQeQgg1EQk9hBBqIhJ6CCHURCT0EEKoiUjoIYRQE5HQQwihJiKhhxBCTURCDyGEmoiEHkIINREJPYQQaiISeggh1EQk9BBCqIlI6CGEUBOR0EMIoSYioYcQQk1EQg8hhJqIhB5CCDURCT2EEGoiEnoIIdREJPQQQqiJSOghhFATkdBDCKEmhpXQJW0j6S5J0yQdPMh5G0h6QdJOnQsxhBDCcAyZ0CWNAn4EbAusBewqaa0BzvsWcH6ngwwhhDC04fTQNwSm2b7b9nPAacCObc77FPA74MEOxhdCCGGYhpPQlwfua3o8Ix+bRdLywHuBCYN9I0n7S5osafJDDz30cmMNIYQwiOEkdLU55pbH/wd8yfYLg30j28fbHm97/JgxY4YbYwghhGGYexjnzABWbHq8AnB/yznjgdMkASwFbCdppu0zOxJlCCGEIQ0noV8PrCZpFeAfwC7Abs0n2F6l8bmkU4BzIpmHEEJZQyZ02zMlfZI0e2UUcJLt2yQdkJ8fdNw8hBBCGcPpoWP7XODclmNtE7ntvV99WCGEEF6uWCkaQgg1EQk9hBBqIhJ6CCHURCT0EEKoiUjoIYRQE5HQQwihJiKhhxBCTURCDyGEmoiEHkIINREJPYQQaiISeggh1EQk9BBCqIlI6CGEUBOR0EMIoSYioYcQQk1EQg8hhJqIhB5CCDURCT2EEGoiEnoIIdREJPQQQqiJSOghhFATkdBDCKEmIqGHEEJNREIPIYSaiIQeQgg1EQk9hBBqIhJ6CCHURCT0EEKoiWEldEnbSLpL0jRJB7d5/kOSbs4fV0ka1/lQQwghDGbIhC5pFPAjYFtgLWBXSWu1nHYP8Dbb6wBHAcd3OtAQQgiDG04PfUNgmu27bT8HnAbs2HyC7ats/zs/vAZYobNhhhBCGMpwEvrywH1Nj2fkYwPZFziv3ROS9pc0WdLkhx56aPhRhhBCGNJwErraHHPbE6UtSAn9S+2et3287fG2x48ZM2b4UYYQQhjS3MM4ZwawYtPjFYD7W0+StA5wArCt7Uc6E14IIYThGk4P/XpgNUmrSJoX2AU4q/kESSsBvwf2sP2XzocZQghhKEP20G3PlPRJ4HxgFHCS7dskHZCfnwAcBiwJ/FgSwEzb47sXdgghhFbDGXLB9rnAuS3HJjR9/hHgI50NLYQQwssRK0VDCKEmIqGHEEJNREIPIYSaiIQeQgg1EQk9hBBqIhJ6CCHURCT0EEKoiUjoIYRQE5HQQwihJiKhhxBCTURCDyGEmoiEHkIINREJPYQQaiISeggh1EQk9BBCqIlI6CGEUBOR0EMIoSYioYcQQk1EQg8hhJqIhB5CCDURCT2EEGoiEnoIIdREJPQQQqiJSOghhFATkdBDCKEmIqGHEEJNREIPIYSaiIQeQgg1MayELmkbSXdJmibp4DbPS9IP8vM3S1qv86GGEEIYzJAJXdIo4EfAtsBawK6S1mo5bVtgtfyxP/CTDscZQghhCMPpoW8ITLN9t+3ngNOAHVvO2RH4uZNrgMUkLdvhWEMIIQxCtgc/QdoJ2Mb2R/LjPYCNbH+y6ZxzgG/aviI/vgj4ku3JLd9rf1IPHmB14K5XGf9SwMOv8nu8Wr0QA/RGHL0QA/RGHL0QA/RGHL0QA/RGHJ2IYWXbY9o9MfcwvlhtjrW+CwznHGwfDxw/jDaHRdJk2+M79f36NYZeiaMXYuiVOHohhl6Joxdi6JU4uh3DcIZcZgArNj1eAbj/FZwTQgihi4aT0K8HVpO0iqR5gV2As1rOOQvYM8922Rh4zPYDHY41hBDCIIYccrE9U9IngfOBUcBJtm+TdEB+fgJwLrAdMA14CtineyHPoWPDN69CL8QAvRFHL8QAvRFHL8QAvRFHL8QAvRFHV2MY8qZoCCGE/hArRUMIoSYioYcQQk30XUKXNL+k1Stqey5Jm1TRdghDkTRK0meqjiMkkuYr3mY/jaFL2gE4GpjX9iqS1gWOtP3ugjFcbfvNpdobJI5NgSOAlUk3twXY9msLx7F8UwyQgriscAybAlNtPylpd2A94Bjbfy8Yw+uBL/DSn8WWpWLIcUyyvXnJNgeSOz9jmfPn8fOC7Vf6GpF0g+31JP3C9h4l2hzOwqJecgSpFMEkANtTJY0tHMMFkt4P/N7VvhueCHwGmAK8UEUAkr4F7Azc3hSDgaIJnVQ7aJykccAXST+bnwNvKxjDRGAC8FMq+n1kV0o6FvgN8GTjoO0bSgYh6RfAqsBU5vzbKJbQqf41Mq+kvYBNJL2v9Unbv+90g/2W0GfafkxqtzC1mM8CCwIvSHqa2e/6ixSO4zHb5xVus9V7gNVtP1txHDNtW9KOpJ75ifmFVDqGXihK1xgSPLLpmIGiVwrAeGCtijs9Vb9GDgA+BCwG7NDynIERn9BvlbQbMErSasCBwFUlA7C9cMn2BnGJpO+Q/ihmJdTCPbG7gXma26/IE5IOAfYA3pIrhM5TOIazJX0cOIM5fx+PlgzC9hYl2xvErcBrgCoXGFb9GlnW9sck3ZjLnnRdv42hLwAcCmydD50PfN32MwVjEOlddxXbR0lakfSLu65UDDmOS9ocdokxW0k/JPUwlgfGARcx5wvmwG7H0BLPa4DdgOttXy5pJWDzwuO197Q5XMU9jWWA/wWWs71tLnX9ZtsnFmr/bNLfxsLAusB1zPm3UfJ+V2Wvkdx+Ywz9BttF9ojoq4TeIGlB208OfWZX2v4J8CKwpe01JS0OXGB7gyriqcJQwxm2f1YqlgZJKwOr2f5zfuMfZfuJ0nFUTdJ5wMnAobbHSZobuNH2Gwu1P+h9C9uXloijF0i6kDQKsi5weevz3Xhz66shl3zX/ARgIWClfBPso7Y/XjCMjfK77o0Atv+da9wUIWl327+U9Nl2z9v+XrdjaCRsSQsCz9h+IT8eBZSfqiXtRyrLvATpRtzypBuUWxWMYR7gY8Bb86FJwHG2ny8VQ7aU7dPzEFSjdEexG4KNhC1pFeCBxtWzpPmBZUrFkdtcFDic2b+TS0mz4h4rFMK7SDOufgF8t0SD/TYP/fvAO4FHAGzfxOxfVinP58RlAEljSD32UhbI/y48wEdJFwHzNz2eH/hz4RgAPgFsCjwOYPuvwNKFY/gJsD7w4/yxPtXs3PWkpCWZ/fe5MVAqgTWbyJyvixfysZJOAp4APpg/HiddvRRh+7m84c8m+Y3uBmCK7Uu7daXSVz10ANv3tcxyKT0d6QekG19LS/ofYCfgKwXbXzX/e7vt0i+QVqNt/7fxwPZ/83BHac/afq7xd5GHGUqPJW5ge1zT44sl3VQ4BkizsM4CVpV0JTCG9Dda2tx5hzMgJbeSV7LZqrbf3/T4a5KmFo4BYBlJF5CuICXpIWAv27d2uqF+66Hfl4ddLGleSZ8H7igZgO1fkeY6f4N0B/89hRPrdvny/pCCbQ7kSTVtCC5pfeDpCuK4VNKXgfklvYPUEzy7cAwvSGq82SLptVQw9znP4HgbafriR4E32L65dBzAQ5JmjRHnKaWldwt6WtJmTTFsSjV/n8cDn7W9su2VgM/RpaqLfXVTVNJSwDHA20nzvy8ADiwxNUzSEoM9X2p6Wp6GtT9pLvxTzU9ReD68pA1Ie8w2NjNZFtjZ9pRSMeQ45gL2Jc1+EnC+7Z8WjmEr0uX83TmGlYF9bLebadGN9re0fXG7BSzQnUUsQ8SzKvArYDnSz+M+YE/b0wrGMI60kGnRHMOjwN55qLYYSTe1XL21PdaRtvopobcj6Wjbny/Qzj2ky/jGeE/jB1d6OfF8tp+V9AfbrZt1F5evFlYn/RzurOAmIJIOsn3MUMcKxDEfc/4sis3Pl/Q124dLajdGbNsfLhVLM0kLkfJMZTOOJC0CYPvxito/gzR+/ot8aHdgvO33dLytGiT0e/NlTJUxqNSKuCrqQ7SJodd6gy+Z55sXc7ypQNttfwYNpX8WVeuFWVhNscwHvJ+X1pM5cqCv6VIciwNfAxrDP5cDh9v+T6fb6rubom0UrQMg6UjbhzU9nov0zvuhQiEUrw/RxtuAi3npcmbo0pLmdiTtSlpQtIqk5m0RFybPhCqg8TNYmjRufRHpb3IL0tTF0m9ulS4sIg0FQvkZV+38gTTDZwrVrmZ+X+tiO0nfBA7udEN9kdAHGb8WhRM6af77Iba/kXsAE0mXU6UUrw/RKl/azwWcZ/v0brc3iKtIN6aXYs55vk8ARW4E2t4HQNI5pNolD+THywI/KhFDi1PIC4vy47+QCnUVSei2j8vTeh+3/f0SbQ5iBdvbVBwDwE6SnskTKpD0I2B0NxrqiyGXNuPXzYour1aaG/cr4BZSL+y8Kv5wJe1bsNc1UAyX2S69DqAnSbrV9tpNj+cCbm4+ViiO621v0DzkJGmq7XULx3GJK64rI+l44Ie2b6k4jvlJU0lPArYFHrX96a601Q8JvRc0T88jFX46DriS3PNx+fKk85J6682r4CaUvCkp6aukaWCtpVqLFqTKi2d+CKwJzEvazPzJwjN+jgVWA04ldT52AabZ/lSpGHIck0jjxhfmey0bA9+yXbKUMHmNxqJUWMZX0u3A64B7SEMujQkM6xRqv3lkYWHgTFLOOAy68zqJhD5Mal/op8Euv5HBCaQ3lkbdlD2AF2x/pGAMvVKQajIpgU4klW3dE3id7UMH/cLOx/FeZr/BXmb7jJLt5xjWI725rU2qeDgG2Kn0XPQBXi/FXif5SvotwEs2OXGhjU9aRhZaRxi68jqJhN6nSs5tHSSGl8zukTTaBatf5jYn2x4v6eZG70vSVbaLbheoHikQllfKNqZP3lXRVNKX/B1IWtJ2qZvVSJpie/1S7fWCvrgp2kt6ZSoUeWWi7b/luKpYmXgiMGt+s1KxrrMoVBRL0ly2XwSeykNQUyV9m3SjdMHBv7rjsVReICzHMQrYjtl/n1tLKjpdMPudpB1tz8xxvQb4I6nGTSnXSNrA9vUF22xLhbbj65uEXtVNpjZ6ZSrUF0gF/OdYmVg4hn9I+olTEf/FSS/Ykis0b5D0MdJw01zAJ0lbjq1IetMt6ROk7RGvhVQgTFLpAmGQSh48Q7ppX7JoXKszgd8qbde4IumNvusLAFtsARwgaTppHL/oGHqDCm7H11dDLpJ+BRxi+94KY7i1B95UgGpXJjbF8C3Sza/1gW/a/l3BtjcijRffBHzR9r9Ltd0mlmttb9SYXZKHPW6oIHncXLrNgUj6BLANqWf6UdtFdxfLQ2AvUWoMvSmOOyi0HV/f9NCzZYHbJF3HnHfOi+2CAlwl6Y1VTYVS2tVetn+RE/jN+fh+kp60/esCMTQvaLoO+Gr+15LeV2p1pO1rc1I/AJistLnDi03Pl9w56VLNWSDs45QvEAZwnqStbV9QQdu0rBAVqXc+FdhY0sYlh35s/12pONdqtk9WKnW9UBQS90UAACAASURBVKn2mxTbjq/feuhtp1654C4oPTAV6kbgra0325TqVVxS4iaQ2tcLabAL1g1Rqv39HWAt0lTS5oRebOcktSkQBpxQolfWEsd7gV+ShqCeh7JF2yQdPtjztr9WIo6mWMaTNjJ/vaTlgIm2Ny0VQ47jEgptx9dXCR2qn0lQ9WXcYJfUvXS5XYKkA0j3Er5D2h2ov/6YuyDfU3kPcMtI/3ko1T5/E2noq7HIqvhrpGRHtK+GXKqcSSBpEadqbVXvUzmP2uypKmlh0qKaYvIl7H689O59qR76W0h1Sh4s1N6AlGptH0G6OT03lK3C2eSvwK1VJ3NJryfdBB3LnH8bJddrPGfbkhq7NxWd+dRQcgShrxI61c4k+DWwPWl2y0sWCQClXrgnkmYPfMz2dABJY0l1Q0qXAvgDqXLcn6lmM4dSBdGG40TSDJspVPCzaPIAMCnfT2i+vC89bXEiqbN1AtX9PE6XdBywWO4MfpiCs7AkXWF7M0lPMOcOWl0bBuu3hF7ZVmO2t8//rlKivUHiOFrSf0k34RYi/f+fJM0wKb2H5QK2v1S4zV71mO3zqg6CdG/nHtLVWukt35rNrODvEQBJOwHn5NfKO0h7ia4OHGb7wlJx2N4s/1us8mRfjaHnRSP/IS3t/hRpJsHtJZZ4S3oEuIZU4e9K4DrbTw3+VV2PqdLNAyR9HbjK9rlVtN8LNLvGzwdJNWR+z5w945K1S0YBP7O9e6k2B4nlCOBB0v67zT+PEruLnUHaNPxPpNo6F9gufpWgCnY567eEXtlMgjyLZGNSzetNSPOu7yYneFdbRrYS+VJyQdILtooZFZVvC6jeq/FzPrCDmzZoroIqrvOTX6/vJdX4GUcaHjzV9mUl2s8xvAjMAGY2DjU93ZWfRV8kdEkX2d5K0rd65RI/32DZB/g0sIrtURWHNOJozuJHKwH/zp8vBtxb9fBYFfKY8XqklZnNazVKj6H3jDy1dSfSFf0Stlcs1O4xwOakK/pTgSu63fnslzH0ZfPUn3dLOo053+mKXNbmOayN3vkG+fAU4CvA1d1uv5dozlLCkJLqw7bvKxlHI2FLmgCc1Rj6kbQtaSPxruvBobj788dcVLBrkF66i5aBh4GpVQwN5pIU7wN2Js2OK7aS2fZBSjf8NieVp/ihpAuAn9hudwXzqvVLD30n0lDLZsDklqeLXNbmy6cbgO+TFidUfUm7APA5YCXb+0lajbSA4pwCbbcbZliCdBNuV9tTux1DSzwvqaqnXIGxQNsxFNdkgEVnSwDrAPvavrhADAuT5uLvyuyrldNIC+8qSXiSFiMN/xwFfNl2V2bb9EVCb5D0VdtHVdT2m4E3k160qwDTST3zq4HJLlxHRdJvSFcIe9peW2lXlKtdeGealpjGA99z4V2M8rjx5aQVkibtqv5W2+8sGUeOpdKhuPxm+5IXdemx/FZ5Qd7ptjcq0NbDpPtrpwF/cgXlg3McCwI7kq4OxpBumP+mm1eyfZHQJa1h+842l/pA+d2CckxjSXt6HkTau7ArewQO0n6jBnjzVmNF66EPENcNttv+nrrY5hLA4TRtLgF8rdBN0YGG4q4hvcGWLgTVfKUymlR1cqbtL5aMo51SfxuSFqh6BlqO40nSQq9TgWm0vNG6CzWP+mUM/bOkFaLfbfOcgVK7oKzB7BfvpsDipB76hBLtt3gu98obq+BWpdpyvijtOF+8h5AT90Gl281mMHso7uCqh+JsT2k5dKWkYisVByJpdQr9ffZCMs8mkl4Pa+SPZl3Z0L0veui9IF/GPUAaG22Mj06rMJ53kG7IrgVcQHqD2dv2pAJt/5CXJu4lSG90B9kuUmVQ0v/Z/rSks9vEU6QKZw8OxTVP5ZyLNKb/A9urF2q/3e9iCVKl1N1tj6gJBKX1XUJXoZ0/2rS7qO3Hut3OcOT5+DsBF5FuyAm4xvbDhdrfq+WQgUeA60vWVZG0vu0pJYsfDSOmsVQ7FNc8lXMmadXokbavKNR+6++i8bfx16qvXkaCvkroGmDnD5ete90TJF1W+uZjr1IqGXtu6d5wU/sDDcVdafvoKmIayQa6YmsoceVWlX5L6MV2/uh1kr4KPA38hjkXkHT9RmCvyVPltiTdDD0NON95L8sCbffUUFyOqZKr2F7RdJXwPtLGEr/Mj3cFptv+ciWBFdBvCX0icKDtru/80euqXlrdayTNA2xLmiK2GXCh7Y8UaLdnhuIgrmKbtbuKreLKVtJo0irVzUhXDleQFhc90+m2+mWWS8NSwO1KW9B1deePgSjt4/l+XtoDOrJgDHORZlT8plSbg1Gb+uyl2X5eqWSsgflJ83+7ntB7KZln4+mRq9g8C2sl23dVFMIYSa+1fXeOZxXSfPDSfk7aR+GH+fGuwC+AD3S6oX5L6EdUHQCpyM9jpLnGlYzZ2n5RaQPeShN6vrQ/gbRP40qSxpE2A/544Ti2Ia3C2wKYlGP6YMkYekix/SsHI2kH4GjS6uFVJK1Lujlbcvz6M6Ta8Hfnx2OBjxZsv2H1lvUhl0i6qRsN9dWQSy+QdKvttXsgjsrH0CVdS5ptc1bT4qbiP59c3+c04LyqboxWrelG4MIU2r9yiHimkO5rTHK127/Nx+w54HdW8fch6RRggu1r8uONgL260fHpqx56LvzzLWBp0rSsouVas6skvdH2LQXbbKexzdsnmo6V3DkpNWjfJ81RK62KnYt2Kd1mK0kHASeTLq1PIO1lebDtCwqF0GuzaWbafqzlb6MKq5E2txgNjJNU7AaxpFtIr8l5gD0l3ZufWgm4vRtt9lVCB75NqvV8R4UxbAbsnW9KPsvsN5WiPQ/3RmnY+/KwiyXNCxwIFP/dSNqYND65JukSfxTwZOE3+g/bPkbSO0njtPuQEnyphH6o7a0LtTUct0raDRiVC8cdSJoFVIykw0mVDtcCziXdNL+CNKZdwvaF2pml3xL6vypO5pD+KCqXqy1+lnTTaf+S1RabHAAcQ9qsewYpeX1i0K/ojmNJY+gTSTcF9wReVziGRld0O+Bk2zepbPd0qYJtDcengENJnZ5fk4plfb1wDDuRNre40fY+uTTFCaUab67jk+8vvSU/vNx2V8bQ+y2hT85VBs9kzvHBjtdEaCVpEduPky6pe8HJpBuzm+THM0gJrVhCzytTe2KjZtvTJI1y2mrsZElFe4PAFKVa16sAh+QSri8WbH8xvbQW+SwlXiMt7T0FHCrpfyucAfV0nkAwU6nM8YMUHpKEWcNx+zG7dssvJR1v+4eDfNkr0m8JfRHgKdIWdA1dKXLTxq9Jl1BTmL20ujmG0n8oq9reWdKuALafLtwjRNLrgZ8AyziV8F0HeLft0j2xp/KQz1SlfWcfIG2NV9K+pJuRd9t+KtdU2adg+4uS/j7b/Q2Ueo3M0iMzoCYr1SH/Kel1+1/SzeLS9gU2aryxSfoWaSVxxxN6zHLpU7kHuhVpZeJ6udriqbY3LBjDpcAXgOMqnuWyMvAv0vj5Z0jJ7cclV2xK2pS0K8+TknYnbaxwTKnyuaVK0w5X1TOgcudmBefa47nGziK2by7RfksstwAbNBYS5YVG19t+Y6fb6qseei/0CCX9nLSZwuW27yzVbhuHk3Y1X1HSr8jVFgvHsIDt61ouDIosuW9m+++SxuTPv1a6/ewnpFkU44AvAieSbr61LRzWBZVPJ2lV5Qwo25Z0JqnaJLanl2q7jZOBayWdkR+/BzipGw3N1Y1v2kU/BQ4h7TBPfrctPWXtFFIp0B9K+puk3+UxsqJsX0iqVbE3qYD+eBcondvi4Xxl0KjJvhMFF7QoOSLXU7kT+IukhyQdViqGJjPz6swdST3zYyi7p+ceBdsajjlmQEn6POVnQF0jaYOhT+supw269wEeJW1kvg9wfDfa6qshF0nX295Ac+7SM9WFt12TNIq0O80WpJkeT9tuLWDfrbZ7ZvcmSa8l/WFuQvpDvQf4UMFhhs+QZpXs77zpbo7pJ6Stx75fIo7c7qWkK6YPk2YzPEQagun4ZXU/kLQUaQbU20lXDxeQ6jCVXPh2O/B64O+kxXfFpxhLWp7UAbzZ9nOSliZtT7i37eU63V5fDblQcY8wt3kR6Ybb1aShlw1csAY4aWPo/ah49yaAXCPj7Up7J85l+wlJnwb+r1AIewLvcFMdeNt35zHsC0i7CJWyM7AbaT76PyWtBHynYPs9pd0MKElHA58vGEalU4zza+FQ0vZz80k6BvgeaShu/cG+9hW32Wc99HY9wt1Ljo9J+j7pl/EscCWpZOvVtp8uFUOOYykX2tDi5ZB0r+2VCrU14E22im7OLsPsfUWvK/xG3xxH1UWx2ir5t9HU5ihgGeYspHfvwF/R0bZvBzaz/Wh+g59G2rz8mm612Vdj6Lbvtv120kq8NWxvVvpmh+3POJXffC9pJ5aTgf+Ual/S9pIeAm6WNCOPU/aSkjfnBtsBp+juOJI+SJoS9wFSYbBr8xVkUUpFsaaShn+QtK6ks0rHMYDS02o/RZr9dCHwx/xRcuHdM40hpvwm8pduJnPokx66pM8O8vSzwN+AC2x3fSFH/iPZjNRL/zuph3657Yu73XZu/2bgg3kcfSPg27ZLzaQYUuEe+gs0FSZrfgoYbXueEnHkWG4iDf88mB+PAf7sOavslYij0qJYmnNP0zmeAm6yvUKJOHIs00jzvx8p1WZL+w+SisY17NL82F2oUd8vY+iDzRZYnDQf+8OUKZk6H2kcbIoL7YrTYmZjuqTta/OKxKIkPUH7Lb5EqkVehO1RpdoahrlahlgeoZor4KqLYrVbeNdQek/R+0ilrqvyhZbHU7rdYF8k9OHMLc49165S2lhib1e7T+TSLVcsczzOU6S6ynbxN5E+8CdJ55OmkELqjZ1XQRyVFsVybxSNa7ibVA/9j8xZKqTrr5Hczs9KtNOsX4ZchrNllIB7un3DIy/iOaTUjZU27R8+2PMVLqwZ8ZRqqWxK+lu8zPaZFcSwAGlmRaM8xgWkjSVGXJ34gV4rpV4jkvYc5qlTO7WCtV8S+snDOM3Amba7egNI0sWkmQzXMefGErXdSTwMrGX4qXWY4RnS/Z1DbV9UKJ59bZ/Ycuybtg8u1P49DDzk0jhu4P9s/6BQTAuT5p//t0R7Te0O2vlqcontyzrSZj8k9MFIkgv+JzR7R/E52L60UPvD3eB2elVXESHJU+bWBn5VsIbJecAvbf8qP/4R6QbxviXa7yWS1ibt3dm4UfswsKft26qLqrv6Ygy9QdKRtg9rejwX6RdWrIRrqcQ9iOFW8DsDiIReIadSvjdJ6nhVvUG8DzhL0oukhTWP2q6iRn0vOB74rO1LACRtTiofUnSqr6QPkFYuPyHpK6TCbUfZvrHjbfVTD11pb767bH9Daa/AicANto8o0PZgMzvssrvjhDCHlumCC5P2DLgSOAzK7jWb49mUtKn7yqSOY+N1UqzMtKSbWqeNtjtWII6bba8jaTPgG6TtAr9se6OOt9VnCV3Ar4BbSHVUzitZr6PXSFqctGfi6MaxTo3Fhf7SMnb9knr9JRNpjudOUinjKTRVWSw5J1ypuuENpKt4gN1JRezeUyqGHMeNtt8k6RvALbZ/3VyPqqNt9UNCbylENQ9wHKn3cSKULUjVKyR9BDgIWIG0MnBjUgmCYrVcQhiIpGu70QN9mTEsDnyNtBAQ0iLAr9n+d+E4zgH+QSpUtj7wNKk0RMevFPoloV8yyNMeiUlMuWg+cI3tdSWtQfpj3bni0EIFJG1p+2INsA2dC29BJ+mbpM26f8+cc8C73vlS2kBiYdsPtRxfBnjMeaOJUvJU0m1IvfO/SloWeKPtjm8g3hc3RW1vUXUMPegZ289IQtJ8uRTA6lUHFSrzNuBiYIc2zxXfgg5o9M7Ht8RRovP1A1Itm9b/89tJvfWPFYgBmDVx47rmWU62H6BLVWL7oofeIOl/SbVL/pMfLw58zvZXqo2svDw+uA+ptvKWpOqT89jertLAQqiYpNttrzXAc7fZfkPheIotRuy3hP6SGwnqsb0Uq5Dnxi9KmhpVul5G6AFDFLArtty9QdKipG0SG+smLiWtWO16bRVJd9he8+U+18V4ii1G7Ishlyaj8vDCszCr7vN8FcdU1ADV7G7J/y5E2uYqjDxHk26On0cas656j9GTgFuZXTBvD1Kp6bZj/B32oKQNbV/XfFBpO7qHBviabipWjqPfeuhfBN5N+sMwqcLiWba/XWlgBbVMT1uJNNQiYDHg3h4rjhQKkbQuqSDYNqSpgqcCF5VcRd0Sz0u2hmx3rEttbwicTtr/t1HhcDxph6tdbF/b7RjaxLQysJrtP+ebpKNsP9Hpdvptg4tvA/8DrAm8gbTaasQkc0jV7PKc4vOBHWwvZXtJYHvK3/gKPcL2VNsH54R5Immz6tslVVVj6Om8kAaYtdCoyK5euWe+Eamjs3f+EKk2ehXJfD/gt6Tp1gDLkxZ+db6tfuqhh9kkTbG9fsuxybbHD/Q1of7yxhofJO2c9DzwVXd5l5wB4hhH2jtz0Xzo38Benaoq2E8kTQU2BK717E1HbnEXNhDvqzH0luX385IWGT05QpfdP5zrQvyS9DPZnbSpQhiBJO1D2qh6NKk3+EFXtKdp9rjtcZIWAbD9uKQiw4G5yuFweqqTCq2sftb2c41NRyTNzfDie9n6KqG7ZWMFSe8hvfONRLuSZhGckR9flo+FkelE0s3xe4F3Als371pUQXnn3wHr2X686dhv6dJu9y2mD/O8UnsBXyrpy8D8kt4BfBw4uxsN9f2Qi6RrbG9cdRwhVGmgss4NBcs7r0G6v/Vt5tyCbRHgCyXngEsalSteViovLtqXtOmISPe/TujGDeu+6qG3LGuei3Tnur/fkV4mSWczyP+5gp5Y6AE9UNa5YXXSDfrFmHPV6hPAfoVjmSbpt8DJtm8v3PYsTpvX/zR/dFVf9dBbdi6aSbq0+mnFY4VF9UpPLPQWSYcNfRZQaNxY0pttX93tdoaIYWHSVM59SB3Ak4DTWoaButn+LQze+Vqn4232U0IPIbQnaa9hnnpjiZkmebbNfsBYmkYCbH+4220PEM9bSXPzFyON5R9le1qX21x5sOdt/73jbfZDQs/V03YmTX06mzQ291bSfo1H2X64wvAqobSj+zeAtZizHnrRutchtCPpKuByXloP/XcFYxgFvIvUQx9Lqov+K+AtwP/afn2pWErpl4R+OmlO7YLA4qQlxWeTKqeta3v7CsOrhKQrSLNcvk8aq9yH9Psc7sa0oYaqrKHSEkeRVaFDxHA3cAlwou2rWp77ge0Du9x+8V3O+iWh32p77Tx/c4bt1zQ9V3xLqV7QWFjUvEBB0uW231J1bKE6kn5H6vD8LB/aAxhnu0QNleY4vg5cZfvcku02tT8KONT2kVW0X5V+Wfr/HIDtmcD9Lc9VPi2pIs/k6VB/lfRJSe8Flq46qFC5VW0fbvvu/PE1oIphuIOAcyQ9LelxSU9IKnIzEmZt0N1z+yhIWlDShyT9sRvfv1+mLa4g6QekS5XG5+THy1cXVqU+DSwAHAgcRaqJPtwbY6G+npa0me0roGwNlWatiwArcpWkY4HfMGfZ2qJbVkqaF9gO2I1UPO13wISutNUnQy6DJirbPxvs+RBGipYaKiKVU97b9k0VxFLpJuYDbF1pF9qyMq8K3ZW0cvcS0hvLD22P7Vqb/ZDQw2ySlgI+QZrxcxLwHdJd+7+Rdm/q6lSs0B+aa6hU1P6I38Rc0oukmT57274nH7u7mzPR+mXIJcz2a2AyqedzHak2/DGkpH4CsHllkYXKSZoPeD95/nejnksFNwcPYvYm5lvkkgDFNnqAgRdbFfxZrE9a2PTnPOPmNNLG2V0TCb3/LGP7y0qv1L/b/k4+fqekT1QZWOgJfwAeI83/frbCOHphE/Mnmz4fTSpJcEepxm3fCNwIfCnfy9gVmFfSecAZto/vdJuR0PvPC5AGAiW1Lqh6sYJ4Qm9ZwfY2VQcBzJC0GGkjhwsl/ZuXzlDrKtvfbX4s6WjgrJIxNMVyJXClpAOBd5B67h1P6H01hi7p28DXSXft/wSMAz5t+5eVBlaQpP+QSuWKNMzSuMkkYDPbi1cVW6iepONJN95uGfLkQpo2MT/P9vMVxrE4cJ3t1aqKodv6LaFPtb1unnP9HuAzwCUjaWFRFOcKg5F0O/A64B5mbxbtbhSCGiKOX9jeY6hjXY6huTjWKGAMadXssaViKK3fhlzmyf9uB5xq+9HmIv4jQSTsMIRtqw4gm6PueV65WWJzi2bNJUFmAv/KixNrq19WijacLelOUh30i3JFt2cqjimEyjWmKZLqjrf7KBXHIbmGyTp5hejj+fGDpBu2xeRqhkuSNsx+H9DxPTyHImkuSbcWa6+fhlxg1jjY47ZfkLQAsIjtf1YdVwhVknSO7e0l3UMaZmi+dHXpKpySvmH7kJJttonhMNJm2b/Ph94DTLT99cJx/Ao4xPa9XW+rHxK6pC1tX9yyY9Estn/f7vhIIGlB208OfWYI3ZdrgP+nUd1R0hakRDod+JHt5wrGcgfwJtvP5MfzAzfYXrNUDLndi0lz8q9jzhIEHd9drF/G0N8GXMycW1o1mNnvwCOGpE1IC4kWAlbKS74/avvj1UYWqiTpIttbDXWsi04H3gs8JmldYCKpbv+6wI+BjxSKA9KbyGhmD8vOR1pRXVqxBVV9kdBtH54rC55n+/Sq4+kR3yfViDgLwPZNeVeWMALlTWAWAJbKw5KNIZdFgOUKhjK/7cZ8892Bk2x/N79+p5YIQNIPSR29Z4HbJF2YH78DuKJEDM1sX5qvXFaz/ec8VNyVFaN9kdAhbbQq6ZOkHkAAbN/XMstnpJYSDvBRUgXO5UirRBt/GI8DPyoYR/Mf5JbAITDr9Vsqhsn53ynAGU3HJ5UKoJmk/YD9gSWAVUkVYicAHb9q6puEnl0o6fO8tBzmo9WFVJn78rCLc3nOAym4rDn0FtvH5FKxX7Z9VIWhXJx3GHuAtLvYxQCSliXva9Bt7aqv5quWFUvsp9rGJ4ANgWsBbP9VUlf2LuiLm6IN+Q5+q+J38HtBrrp4DPB2Uq/oAuAg249UGliolKSrbb+5wvZF2v93WeB02//Ix98ELG37/IKxTALeTeq4TgUeAi61/dlSMeQ4rrW9kaQbbb8p77x2QzcWe/VVQg8hDE7S14Cbgd97hL+4mxLoR0i988Ml3VzBqtlvA/8B9gQ+BXwcuN32oR1vq99+53mYYSxNw0W2f15ZQIU13fBpq9sb34belhfxLEhaGfkMXdyQuNflpf9bk/ZXPdT29RUl9LmAfXMsAs4HTujGG25fjaFL+gXppsJUZt8ANGmHlpFi8tCnhJGqR7Z+6xVHkpLnFTmZvxb4a+kgbL8I/DR/dFVf9dDzQoG1RvqlJICktW0XW1Ic+kfVW7/lGLYkbW7xVMl2hyJpA9vXF26zuUhYw2OkztnXO3nfq6966MCtwGtId9BHugl5dsspwK9t/6fieEIPGGjrN9IUwpL2Jv2NPkLahu1yUk/534XjQNJapPrju5IS6fjCIZxHGlH4dX68S/73cdLrt92CyVekL3roks4mvcMtTFpxdh1Nu7F0YwltP5C0GvBhUr2K64BTbF9QbVShSrk32Nj6bd3G1m+2d64onuWAnYDPA8vZLtKJzAt5ds0fM4GVgfG2p5dovyWWK21v2u6YpFtsd6xoWL/00I+uOoBelOezfoV06fYD4E152tiXR3J9mxGuF7Z+Q9LupA1Y3gg8DBxL6qWXaPsq0oYapwE75dfJPVUk82whSRvZvjbHtyGpZAekN5uO6ZeE/g/SXppXNh/MS93/UU1I1ZK0DrAP8C7gQmAH2zfkHtHVjMD6NgHoga3fsv8j1U2ZQNqEZnrBth8iDTktQ9rU4q8MMjOsgI8AJ0laiDTL5XFgX0kLkurcdEy/DLmcQ+p13txyfDxwuO2OjUH1Okkr2J4h6TLSXfPf2n46P7eD7bMl7WH7F9VGGqqm2Vu//alklcOm9t8AvBXYjHST9q5SOxZJWhR4P2nI5XXAYsA7bV9Xov1BYlI373f1S0K/1fbaAzzX0TGoXifpLtIf5vSW4x8mzbVdtZLAQqUkLTHY86XLY+QNNzYlVUp9C7AUaVx/r5Jx5FiWJq1e3ZW0wGjFwu0vChxOenMDuJS0Fd5jHW+rTxL6NNuve7nP1ZGk7UhL/rez/dd87BBgN2Bb2zOqjC9UQ9KLwAxmj8lWvcHFzaTKhlcAl/XK36WklZ12MirZ5u9IM/QaNWb2AMbZbru/w6tqq08S+qnAxbZ/2nJ8X2Drqu7gV0XSVsBxpI0DPkKa1bB9FVPCQm+QdAywOXAlcCppimDlL+7YgGX25vZDHetIWz3wOx+SpGVIZTCfI5XEhDSXdF7gvR6BW9BJ2ox04+sq4IONXVnCyJVnOG1OGlrYkFSw7Se22xW163YsbwZOBBayPaI3YJF0NfAF21fkx5sCR3ejiFpfJPQGpe2sGmPpt9m+uMp4qpBrdTT2jJwPeJ60aGHE1uwIc8qzXHYBjiJNJuj6kvM2MVxLmn9+lu035WMD3gvrUgxL9EJpbaWdm35GukEt4FFgr26U8u2XaYsA2L4EuKTqOKoUtTpCO3kK3I6km39jSNNW17N9X1UxufoNWK6VNBU4mbTbWSW9V9tTgXH5RjHAU6TfU8cT+lyd/oYhhEo8CHyRNAT3XeBuYANJ79MAm6t32RwbsOSNaUpvwPJ64HjSTchpkv5X0utLNS5pEUmHSDpW0juAJ0gldKcBH+xKm/005BJCaE/SKQy8eMa2P1wwnJ7bgCUP1/6SVFr4JuBg21d3uc0/AP8mLfTbirSD07ykn0NX9leNhB5C6ChJo4Cf2d694jiWJG1UvQfwL9JN2rNI9aAm2l6ly+3PWiOTfyYPAyvZ120wngAADNpJREFUfqJbbfbVGHoIoffZfkHSGEnzVrFCtcnVwC+A97TMg58saUKB9p9vfJJ/Jvd0M5lD9NBDCF0g6ThgPVKPuHlD9+8VjEFVzsWX9AKz/+8C5ifdEO3ajLTooYcQuuH+/DEXqex1MU3ltmmZZQOUK7dte1SJdppFDz2EGpG0APA50ljtfrlm/uq2z6k4tGJyUbIB2b60VCylRUIPoUYk/Ya0mnpP22tLmh+4uhvLzAdof1bvuJ2RuhlNKTHkEkK9rGp7Z0m7Ath+Wu3GHbqnsRnN+0jbRf4yP94VmF4igAH28ITZY9frlIijCpHQQ6iX53KvvDGGvCpN2zV2W2M4Q9JRtt/a9NTZuYZ/CdsXaqfnREIPoV6OAP4ErCjpV6Sa5HtXEMcYSa+1fTeApFVIJQm6rrk8bt5bdDXbf85vdLXOeTGGHkLN5AU1G5OGGK6x/XAFMWxDWnZ/dz40llRt8fyCMewH7A8sYXvVfIN4gu2tSsVQWiT0EGpE0lmkeuhnVV2HXNJ8wBr54Z22iw395PanksoIX9tU8bHWO5xFca4Q6uW7pC3fbpc0UdJOkkZXFMv6wBuAccDOkvYs3P6zzStVJc1NtZtFd12tx5NCGGnyTclLc+2QLYH9gJOAonXyJf0CWBWYyuyyuQZ+XjCMSyV9GZg/Vzv8OHB2wfaLiyGXEGom3/zbgVRzez3gHNufKhzDHcBaVSy9lzSP7eclzQXsC2xNup9wPvDnKnZwKiUSegg1khcWbUSa6XI6MMn2ixXEMRE40PYDFbR9HrBja2GwvA3eH2yPLR1TKTHkEkK9nAzsZrv07kCtliKN419H0zz4QitFpwDnSdrB9lMwqxzAL4GideFLix56CDWSa7l8llTLZf+qarkMVE+lVB0VSYcC2wDbAu8Evg+8z/bkEu1XJXroIdTLyaQe6ib58QxgIlA0obcm7rzT/W5AkYRu+38kPU36WQjY0va0Em1XKRJ6CPVSdS2XWfJu97uR9s+8B/hdoXYbBcJEWp06Dfhe48dQ5wJhkdBDqJdKa7nkTZh3IRXjegT4DWlod4tSMTC7QFjr57UXY+gh1IikrYFDgbVIGzNvCuxj+5JC7b8IXA7s2xjikHS37deWaH+ki4QeQs1UWctF0ntJPfRNSFMnTwNO6PaGzC0xHDbMUyfZLlUBsohI6CHUiKSLWotPtTtWII4FgfeQhl62BH4GnGH7ggJt7zXMU2+0fXNXgyksEnoINZDrtSwAXAJsTuqdQ1ryf57tNSsKDUlLAB8Adra9ZVVxjASR0EOoAUkHAZ8GlgP+weyE/jjwU9vHVhVbVXK1x/eTSvfOmgBi+8iqYuq2SOgh1IikT9n+YdVx9AJJfwIeI81Fn7Vy1vZ3KwuqyyKhh1ADkjYA7rP9z/x4T1Lv9O/AEbYfrTK+Kki61fbaVcdRUtRDD6EejgOeA5D0VuCbpFK1j5F2DhqJrpJU280s2okeegg1IOkm2+Py5z8CHrJ9RH481fa6VcZXBUm3A68jrVJ9lnRfwbbXqTSwLoqVoiHUwyhJc9ueCWzF/7d39yF31nUcx9+fNJeubaYb1RBz0zQsbTaFLafpMiPQcvYwt5YlPRFFYgQ9iRkhBYUkSkVPokkyyC2WRKm0uqdYmlOnqImPzSxwauzBaTY//XFd0zE2neV1fvi9Py843Pe5zrnP+Ry2+7vfvtfvd/26vTS3Gq+/5+9pHWDUxusfdEQ1l9Pt0LMO2Ey3WhNJB9G1XcYd2w/210A/pj+0yvatLTMNLS2XiCIkzQFeD1y1dYPo/toqr7a9umm4BvqpnJ8ElvWHFgA/qjwLKAU9IkqStAaYu80/bhOB6yv30DPLJSKqEtvMP++/b3Ip4VFJDz0iqroY+LOk5XSF/H3AT9tGGlZaLhFRlqS3AfPoCvqY7ZsbRxpUCnpElNRv7vGQ7ackHQccDlxq+19tkw0nPfSIqOoKYEs/dfMnwAzgF20jDSsFPSKqeqZfaHUqcIHts+imdZaVgh4RVT3db5Z9OnBlf+yVDfMMLgU9Iqo6A5gLnGf7fkkzgMsaZxpUTopGRBSREXpElCTpJEk3S3pM0npJGyStb51rSBmhR0RJku6hOyF6m8dJocsIPSKqWgvcPl6KOWSEHhFF9dvyfRP4I90GFwDYPr9ZqIHlWi4RUdV5wEbgVcAejbOMRAp6RFS1j+0TW4cYpfTQI6KqaySNq4KeHnpElCRpAzCRrn/+NM9tEj25abABpaBHRBSRHnpElCXpNcAb6U6MAmB7rF2iYaWgR0RJkj4BnAnsB9wCzAGuB+a3zDWknBSNiKrOBI4CHrR9PHAE8EjbSMNKQY+Iqp60/SSApAm27wIOaZxpUGm5RERVD0naG/gVcLWkx4GHG2caVGa5RER5kt4BTAF+a/vfrfMMJQU9IkqRtM/zPW77sVFlGbUU9IgoRdL9gOkWEu0PPN5/vzfwN9szGsYbVE6KRkQptmfYngn8DjjZ9lTb+wInAcvaphtWRugRUZKkm2zP3u7YX2wf2SrT0DLLJSKqWifpbLqNoQ0sAR5tG2lYablERFWLgGnAcrqpi9OA05omGlhaLhExLkjaH1ho+zutswwlI/SIKEvSVEmfkTQGrARe2zrTkNJDj4hSJE0CFgCLgYPpWi4zbe/XNNgIpOUSEaVI2gzcAJwNXGvbku7rpzKWlpZLRFTzVbrrn/8A+IqkAxvnGZmM0COiJEkz6Wa6nEa3ycXXgeW2724abEAp6BFRnqTD6Ir7QttlR+wp6BERRaSHHhFRRAp6REQRKegRUZKk+ZL2ap1jlNJDj4iSJF0KzKG7INeq/nat7cebBhtQCnpElCZpOvAB4IvAdNtlV8iX/WARMb5JWgIcAxwGrAMuohull5URekSUJGkdcC/wQ2Cl7QfaJhpeCnpElCXpzcCxwDy61aJ/tf2RtqmGk1kuEVGSpMl0m0S/ATgAmAI80zLT0DJCj4iSJK0Bru1vY7YfahxpcCnoEVGapIm2N7XOMQppuURESZLmSroDuLO//1ZJ328ca1Ap6BFR1feAd9MtLML2rXQnSMtKQY+Ismyv3e7QliZBRiQLiyKiqrWS3g5Y0h7A5+nbL1XlpGhElCRpKnABcAIg4CrgTNuPNg02oBT0iChH0m7AJbaXtM4ySumhR0Q5trcA0/pWy7iRHnpEVPUAcJ2kFcCz89Btn98s0cBS0COiqof72yuASY2zjER66BERRWSEHhGlSPo1sNORqu33jjDOSKWgR0Q13+2/ngq8Drisv7+Irq9eVlouEVGSpDHbx77QsUoybTEiqpomaebWO5JmANMa5hlcWi4RUdVZwB8k3dffPwD4dLs4w0vLJSLKkjQBeFN/9y7bT7XMM7QU9Igoq7841wFs042wfWmzQANLyyUiSpL0c+BA4Baeu2yugbIFPSP0iChJ0p3AoR5HRS6zXCKiqtvp5qGPG2m5RERVU4E7JN0APHsyNCtFIyJefs5tHWDU0kOPiHFB0tHAYtufbZ1lKBmhR0RZkmYBi4EPAfcDV7RNNKwU9IgoRdLBwGl0F+N6FFhK1404vmmwEUjLJSJKkfQMsAr4uO17+mP32Z75/D/58pdpixFRzfuBfwIrJf1Y0jsBNc40EhmhR0RJkiYCp9C1XuYDlwDLbV/VNNiAUtAjojxJ+wAfBBbant86z1BS0CMiikgPPSKiiBT0iIgiMg89ypJ0LrARmAyM2b7m/3y9WcB02795CeJFvORS0KM82+fs6Lik3Wxv2dFjOzELOBLY5YIuaXfb/3kR7xHxP8tJ0ShF0teA04G1wCPATcBbgCtt/1LSA8DPgBOBi4DHgG8AE4B7gTNsb5R0FHABMJHuSn3vAm4D9gT+DnwLuLp/rZnAE8CnbK/p/2cwnW6nnHW2Fw/+wSPICD0KkTSbbsn3EXR/t1fTFfTtPWl7nqSpwDLgBNubJH0J+IKkb9MtF19o+0ZJk+kK9jnAkbY/17/fhcDNtk+RNJ9uJ5xZ/XvMBubZ3jzYB47YTgp6VHIM3cKRJwAkrdjJ85b2X+cAhwLXSQLYA7geOAT4h+0bAWyv719v+9eZR7cqEdu/l7SvpCn9YytSzGPUUtCjml3pIW7qvwq42vaibR+UdPguvs6OlpNv/blNO3gsYlCZthiVjAELJO0paRJw8gs8/0/A0ZIOApC0V3+lvruA6X0fHUmTJO0ObAAmbfd+H+6fcxxdv3z9S/mBIl6MjNCjDNurJS2l2+X9Qbor7j3f8x+R9DHgckkT+sNn275b0kLgQkl7ApuBE4CVwJcl3UJ3UvRc4GJJa+h67B8d4GNF7LLMcomIKCItl4iIIlLQIyKKSEGPiCgiBT0ioogU9IiIIlLQIyKKSEGPiCgiBT0iooj/At9AEQhJZEXkAAAAAElFTkSuQmCC\n",
      "text/plain": [
       "<Figure size 432x288 with 1 Axes>"
      ]
     },
     "metadata": {
      "needs_background": "light"
     },
     "output_type": "display_data"
    }
   ],
   "source": [
    "graph_df_director_mean.plot(y='profit', use_index=True, kind = \"bar\",title='Average profit per movie');"
   ]
  },
  {
   "cell_type": "code",
   "execution_count": 38,
   "metadata": {},
   "outputs": [],
   "source": [
    "df_director_sum.sort_values(by = \"profit\",ascending=False, inplace=True)\n",
    "graph_df_director_sum = df_director_sum.head(10)"
   ]
  },
  {
   "cell_type": "code",
   "execution_count": 39,
   "metadata": {},
   "outputs": [
    {
     "data": {
      "image/png": "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\n",
      "text/plain": [
       "<Figure size 432x288 with 1 Axes>"
      ]
     },
     "metadata": {
      "needs_background": "light"
     },
     "output_type": "display_data"
    }
   ],
   "source": [
    "graph_df_director_sum.plot(y='profit', use_index=True, kind = \"bar\",title='total profit for all movies');"
   ]
  },
  {
   "cell_type": "code",
   "execution_count": 40,
   "metadata": {},
   "outputs": [
    {
     "data": {
      "text/plain": [
       "Steven Spielberg     27\n",
       "Clint Eastwood       24\n",
       "Ridley Scott         21\n",
       "Woody Allen          18\n",
       "Steven Soderbergh    17\n",
       "Martin Scorsese      17\n",
       "Tim Burton           16\n",
       "Oliver Stone         15\n",
       "Robert Zemeckis      15\n",
       "Renny Harlin         15\n",
       "Name: director, dtype: int64"
      ]
     },
     "execution_count": 40,
     "metadata": {},
     "output_type": "execute_result"
    }
   ],
   "source": [
    "df_director[\"director\"].value_counts().head(10)"
   ]
  },
  {
   "cell_type": "markdown",
   "metadata": {},
   "source": [
    "### Research Question 3  (does alway paying more = getting more profit?)"
   ]
  },
  {
   "cell_type": "code",
   "execution_count": 41,
   "metadata": {},
   "outputs": [],
   "source": [
    "features = [\"budget\", \"profit\"]\n",
    "df_relation = df.loc[:,features]"
   ]
  },
  {
   "cell_type": "code",
   "execution_count": 42,
   "metadata": {},
   "outputs": [
    {
     "data": {
      "text/html": [
       "<div>\n",
       "<style scoped>\n",
       "    .dataframe tbody tr th:only-of-type {\n",
       "        vertical-align: middle;\n",
       "    }\n",
       "\n",
       "    .dataframe tbody tr th {\n",
       "        vertical-align: top;\n",
       "    }\n",
       "\n",
       "    .dataframe thead th {\n",
       "        text-align: right;\n",
       "    }\n",
       "</style>\n",
       "<table border=\"1\" class=\"dataframe\">\n",
       "  <thead>\n",
       "    <tr style=\"text-align: right;\">\n",
       "      <th></th>\n",
       "      <th>budget</th>\n",
       "      <th>profit</th>\n",
       "    </tr>\n",
       "  </thead>\n",
       "  <tbody>\n",
       "    <tr>\n",
       "      <th>0</th>\n",
       "      <td>150000000</td>\n",
       "      <td>1363528810</td>\n",
       "    </tr>\n",
       "    <tr>\n",
       "      <th>1</th>\n",
       "      <td>150000000</td>\n",
       "      <td>228436354</td>\n",
       "    </tr>\n",
       "    <tr>\n",
       "      <th>2</th>\n",
       "      <td>110000000</td>\n",
       "      <td>185238201</td>\n",
       "    </tr>\n",
       "    <tr>\n",
       "      <th>3</th>\n",
       "      <td>200000000</td>\n",
       "      <td>1868178225</td>\n",
       "    </tr>\n",
       "    <tr>\n",
       "      <th>4</th>\n",
       "      <td>190000000</td>\n",
       "      <td>1316249360</td>\n",
       "    </tr>\n",
       "  </tbody>\n",
       "</table>\n",
       "</div>"
      ],
      "text/plain": [
       "      budget      profit\n",
       "0  150000000  1363528810\n",
       "1  150000000   228436354\n",
       "2  110000000   185238201\n",
       "3  200000000  1868178225\n",
       "4  190000000  1316249360"
      ]
     },
     "execution_count": 42,
     "metadata": {},
     "output_type": "execute_result"
    }
   ],
   "source": [
    "df_relation.head()"
   ]
  },
  {
   "cell_type": "code",
   "execution_count": 44,
   "metadata": {},
   "outputs": [],
   "source": [
    "x = df_relation[\"budget\"]\n",
    "y = df_relation[\"profit\"]\n",
    "m, b = np.polyfit(x, y, 1)"
   ]
  },
  {
   "cell_type": "code",
   "execution_count": 45,
   "metadata": {},
   "outputs": [
    {
     "data": {
      "image/png": "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\n",
      "text/plain": [
       "<Figure size 432x288 with 1 Axes>"
      ]
     },
     "metadata": {
      "needs_background": "light"
     },
     "output_type": "display_data"
    }
   ],
   "source": [
    "df_relation.plot.scatter(x='budget' , y='profit', c='DarkBlue',title = \"relation between budget and profit\");"
   ]
  },
  {
   "cell_type": "code",
   "execution_count": 46,
   "metadata": {},
   "outputs": [
    {
     "data": {
      "image/png": "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\n",
      "text/plain": [
       "<Figure size 432x288 with 1 Axes>"
      ]
     },
     "metadata": {
      "needs_background": "light"
     },
     "output_type": "display_data"
    }
   ],
   "source": [
    "plt.title('relation between budget and profit and the best fitting line')\n",
    "plt.xlabel('budget')\n",
    "plt.ylabel('profit')\n",
    "plt.plot(x, y, 'o');\n",
    "plt.plot(x, m*x + b);\n"
   ]
  },
  {
   "cell_type": "markdown",
   "metadata": {},
   "source": [
    "I used this link to help me with the plot above\n",
    "https://www.kite.com/python/answers/how-to-plot-a-line-of-best-fit-in-python"
   ]
  },
  {
   "cell_type": "markdown",
   "metadata": {},
   "source": [
    "### positive correlation\n"
   ]
  },
  {
   "cell_type": "markdown",
   "metadata": {},
   "source": [
    "<a id='conclusions'></a>\n",
    "## Conclusions\n",
    "\n",
    "> **1**: The inductry grows over time \n",
    "\n",
    "> **2**: paying more does not necesserly equal more profit however both features are positivey corroleted\n",
    "\n",
    "> **3**: for the directory question could not find a clear answer to the question does profit depents on director how ever it is noticable that the most frequent name is the top in total profit and the secound is not so it in deed depends on the dirctor\n",
    "\n",
    "## Limitation\n",
    "> for me ,I set the main goal of my anaylises to study factors that effects the profit of the inductry. however there were some factors that effects my final conclusion includes :\n",
    "\n",
    "> **1**: the combined format of the genere ( I really wished to fined the best combined genere to reward relation)\n",
    "\n",
    "> **2**: the wrong values of budget and revenue (zero)\n",
    "\n",
    "> **3**: the number of nans in the data set\n",
    "\n"
   ]
  },
  {
   "cell_type": "code",
   "execution_count": null,
   "metadata": {
    "collapsed": true
   },
   "outputs": [],
   "source": []
  }
 ],
 "metadata": {
  "kernelspec": {
   "display_name": "Python 3",
   "language": "python",
   "name": "python3"
  },
  "language_info": {
   "codemirror_mode": {
    "name": "ipython",
    "version": 3
   },
   "file_extension": ".py",
   "mimetype": "text/x-python",
   "name": "python",
   "nbconvert_exporter": "python",
   "pygments_lexer": "ipython3",
   "version": "3.7.7"
  }
 },
 "nbformat": 4,
 "nbformat_minor": 2
}
